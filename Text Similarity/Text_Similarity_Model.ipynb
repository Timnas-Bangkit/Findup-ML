{
  "nbformat": 4,
  "nbformat_minor": 0,
  "metadata": {
    "colab": {
      "provenance": [],
      "gpuType": "T4"
    },
    "kernelspec": {
      "name": "python3",
      "display_name": "Python 3"
    },
    "language_info": {
      "name": "python"
    },
    "accelerator": "GPU",
    "widgets": {
      "application/vnd.jupyter.widget-state+json": {
        "5b08899532b649b2850d95f0350ca321": {
          "model_module": "@jupyter-widgets/controls",
          "model_name": "HBoxModel",
          "model_module_version": "1.5.0",
          "state": {
            "_dom_classes": [],
            "_model_module": "@jupyter-widgets/controls",
            "_model_module_version": "1.5.0",
            "_model_name": "HBoxModel",
            "_view_count": null,
            "_view_module": "@jupyter-widgets/controls",
            "_view_module_version": "1.5.0",
            "_view_name": "HBoxView",
            "box_style": "",
            "children": [
              "IPY_MODEL_f9bb6336125c47d1b7894f1a4fcbbe55",
              "IPY_MODEL_38f16bb6411748e2b1e7b7d0bc4260aa",
              "IPY_MODEL_0082f80d12314ebc8489179305b0d160"
            ],
            "layout": "IPY_MODEL_9fa495450fec451b8b923ebf3f3ab642"
          }
        },
        "f9bb6336125c47d1b7894f1a4fcbbe55": {
          "model_module": "@jupyter-widgets/controls",
          "model_name": "HTMLModel",
          "model_module_version": "1.5.0",
          "state": {
            "_dom_classes": [],
            "_model_module": "@jupyter-widgets/controls",
            "_model_module_version": "1.5.0",
            "_model_name": "HTMLModel",
            "_view_count": null,
            "_view_module": "@jupyter-widgets/controls",
            "_view_module_version": "1.5.0",
            "_view_name": "HTMLView",
            "description": "",
            "description_tooltip": null,
            "layout": "IPY_MODEL_0efc7c1fbadd489c82bc2faefeb8f099",
            "placeholder": "​",
            "style": "IPY_MODEL_9c8c2034d0444f7282a7f7fc39563cdc",
            "value": "tokenizer_config.json: 100%"
          }
        },
        "38f16bb6411748e2b1e7b7d0bc4260aa": {
          "model_module": "@jupyter-widgets/controls",
          "model_name": "FloatProgressModel",
          "model_module_version": "1.5.0",
          "state": {
            "_dom_classes": [],
            "_model_module": "@jupyter-widgets/controls",
            "_model_module_version": "1.5.0",
            "_model_name": "FloatProgressModel",
            "_view_count": null,
            "_view_module": "@jupyter-widgets/controls",
            "_view_module_version": "1.5.0",
            "_view_name": "ProgressView",
            "bar_style": "success",
            "description": "",
            "description_tooltip": null,
            "layout": "IPY_MODEL_6750fe3ae387406eabfee9d27f1ab064",
            "max": 48,
            "min": 0,
            "orientation": "horizontal",
            "style": "IPY_MODEL_ed977fb92cee448fb225164b2b2ea6a4",
            "value": 48
          }
        },
        "0082f80d12314ebc8489179305b0d160": {
          "model_module": "@jupyter-widgets/controls",
          "model_name": "HTMLModel",
          "model_module_version": "1.5.0",
          "state": {
            "_dom_classes": [],
            "_model_module": "@jupyter-widgets/controls",
            "_model_module_version": "1.5.0",
            "_model_name": "HTMLModel",
            "_view_count": null,
            "_view_module": "@jupyter-widgets/controls",
            "_view_module_version": "1.5.0",
            "_view_name": "HTMLView",
            "description": "",
            "description_tooltip": null,
            "layout": "IPY_MODEL_b3ad4f6fc12c4a349cc252732b44ce0f",
            "placeholder": "​",
            "style": "IPY_MODEL_bc59229ea0e04d81b42edbbec419a3d4",
            "value": " 48.0/48.0 [00:00&lt;00:00, 510B/s]"
          }
        },
        "9fa495450fec451b8b923ebf3f3ab642": {
          "model_module": "@jupyter-widgets/base",
          "model_name": "LayoutModel",
          "model_module_version": "1.2.0",
          "state": {
            "_model_module": "@jupyter-widgets/base",
            "_model_module_version": "1.2.0",
            "_model_name": "LayoutModel",
            "_view_count": null,
            "_view_module": "@jupyter-widgets/base",
            "_view_module_version": "1.2.0",
            "_view_name": "LayoutView",
            "align_content": null,
            "align_items": null,
            "align_self": null,
            "border": null,
            "bottom": null,
            "display": null,
            "flex": null,
            "flex_flow": null,
            "grid_area": null,
            "grid_auto_columns": null,
            "grid_auto_flow": null,
            "grid_auto_rows": null,
            "grid_column": null,
            "grid_gap": null,
            "grid_row": null,
            "grid_template_areas": null,
            "grid_template_columns": null,
            "grid_template_rows": null,
            "height": null,
            "justify_content": null,
            "justify_items": null,
            "left": null,
            "margin": null,
            "max_height": null,
            "max_width": null,
            "min_height": null,
            "min_width": null,
            "object_fit": null,
            "object_position": null,
            "order": null,
            "overflow": null,
            "overflow_x": null,
            "overflow_y": null,
            "padding": null,
            "right": null,
            "top": null,
            "visibility": null,
            "width": null
          }
        },
        "0efc7c1fbadd489c82bc2faefeb8f099": {
          "model_module": "@jupyter-widgets/base",
          "model_name": "LayoutModel",
          "model_module_version": "1.2.0",
          "state": {
            "_model_module": "@jupyter-widgets/base",
            "_model_module_version": "1.2.0",
            "_model_name": "LayoutModel",
            "_view_count": null,
            "_view_module": "@jupyter-widgets/base",
            "_view_module_version": "1.2.0",
            "_view_name": "LayoutView",
            "align_content": null,
            "align_items": null,
            "align_self": null,
            "border": null,
            "bottom": null,
            "display": null,
            "flex": null,
            "flex_flow": null,
            "grid_area": null,
            "grid_auto_columns": null,
            "grid_auto_flow": null,
            "grid_auto_rows": null,
            "grid_column": null,
            "grid_gap": null,
            "grid_row": null,
            "grid_template_areas": null,
            "grid_template_columns": null,
            "grid_template_rows": null,
            "height": null,
            "justify_content": null,
            "justify_items": null,
            "left": null,
            "margin": null,
            "max_height": null,
            "max_width": null,
            "min_height": null,
            "min_width": null,
            "object_fit": null,
            "object_position": null,
            "order": null,
            "overflow": null,
            "overflow_x": null,
            "overflow_y": null,
            "padding": null,
            "right": null,
            "top": null,
            "visibility": null,
            "width": null
          }
        },
        "9c8c2034d0444f7282a7f7fc39563cdc": {
          "model_module": "@jupyter-widgets/controls",
          "model_name": "DescriptionStyleModel",
          "model_module_version": "1.5.0",
          "state": {
            "_model_module": "@jupyter-widgets/controls",
            "_model_module_version": "1.5.0",
            "_model_name": "DescriptionStyleModel",
            "_view_count": null,
            "_view_module": "@jupyter-widgets/base",
            "_view_module_version": "1.2.0",
            "_view_name": "StyleView",
            "description_width": ""
          }
        },
        "6750fe3ae387406eabfee9d27f1ab064": {
          "model_module": "@jupyter-widgets/base",
          "model_name": "LayoutModel",
          "model_module_version": "1.2.0",
          "state": {
            "_model_module": "@jupyter-widgets/base",
            "_model_module_version": "1.2.0",
            "_model_name": "LayoutModel",
            "_view_count": null,
            "_view_module": "@jupyter-widgets/base",
            "_view_module_version": "1.2.0",
            "_view_name": "LayoutView",
            "align_content": null,
            "align_items": null,
            "align_self": null,
            "border": null,
            "bottom": null,
            "display": null,
            "flex": null,
            "flex_flow": null,
            "grid_area": null,
            "grid_auto_columns": null,
            "grid_auto_flow": null,
            "grid_auto_rows": null,
            "grid_column": null,
            "grid_gap": null,
            "grid_row": null,
            "grid_template_areas": null,
            "grid_template_columns": null,
            "grid_template_rows": null,
            "height": null,
            "justify_content": null,
            "justify_items": null,
            "left": null,
            "margin": null,
            "max_height": null,
            "max_width": null,
            "min_height": null,
            "min_width": null,
            "object_fit": null,
            "object_position": null,
            "order": null,
            "overflow": null,
            "overflow_x": null,
            "overflow_y": null,
            "padding": null,
            "right": null,
            "top": null,
            "visibility": null,
            "width": null
          }
        },
        "ed977fb92cee448fb225164b2b2ea6a4": {
          "model_module": "@jupyter-widgets/controls",
          "model_name": "ProgressStyleModel",
          "model_module_version": "1.5.0",
          "state": {
            "_model_module": "@jupyter-widgets/controls",
            "_model_module_version": "1.5.0",
            "_model_name": "ProgressStyleModel",
            "_view_count": null,
            "_view_module": "@jupyter-widgets/base",
            "_view_module_version": "1.2.0",
            "_view_name": "StyleView",
            "bar_color": null,
            "description_width": ""
          }
        },
        "b3ad4f6fc12c4a349cc252732b44ce0f": {
          "model_module": "@jupyter-widgets/base",
          "model_name": "LayoutModel",
          "model_module_version": "1.2.0",
          "state": {
            "_model_module": "@jupyter-widgets/base",
            "_model_module_version": "1.2.0",
            "_model_name": "LayoutModel",
            "_view_count": null,
            "_view_module": "@jupyter-widgets/base",
            "_view_module_version": "1.2.0",
            "_view_name": "LayoutView",
            "align_content": null,
            "align_items": null,
            "align_self": null,
            "border": null,
            "bottom": null,
            "display": null,
            "flex": null,
            "flex_flow": null,
            "grid_area": null,
            "grid_auto_columns": null,
            "grid_auto_flow": null,
            "grid_auto_rows": null,
            "grid_column": null,
            "grid_gap": null,
            "grid_row": null,
            "grid_template_areas": null,
            "grid_template_columns": null,
            "grid_template_rows": null,
            "height": null,
            "justify_content": null,
            "justify_items": null,
            "left": null,
            "margin": null,
            "max_height": null,
            "max_width": null,
            "min_height": null,
            "min_width": null,
            "object_fit": null,
            "object_position": null,
            "order": null,
            "overflow": null,
            "overflow_x": null,
            "overflow_y": null,
            "padding": null,
            "right": null,
            "top": null,
            "visibility": null,
            "width": null
          }
        },
        "bc59229ea0e04d81b42edbbec419a3d4": {
          "model_module": "@jupyter-widgets/controls",
          "model_name": "DescriptionStyleModel",
          "model_module_version": "1.5.0",
          "state": {
            "_model_module": "@jupyter-widgets/controls",
            "_model_module_version": "1.5.0",
            "_model_name": "DescriptionStyleModel",
            "_view_count": null,
            "_view_module": "@jupyter-widgets/base",
            "_view_module_version": "1.2.0",
            "_view_name": "StyleView",
            "description_width": ""
          }
        },
        "6690588aebd74984aa8e14975774fb2b": {
          "model_module": "@jupyter-widgets/controls",
          "model_name": "HBoxModel",
          "model_module_version": "1.5.0",
          "state": {
            "_dom_classes": [],
            "_model_module": "@jupyter-widgets/controls",
            "_model_module_version": "1.5.0",
            "_model_name": "HBoxModel",
            "_view_count": null,
            "_view_module": "@jupyter-widgets/controls",
            "_view_module_version": "1.5.0",
            "_view_name": "HBoxView",
            "box_style": "",
            "children": [
              "IPY_MODEL_4747d53ba2594302b66274f26bb15747",
              "IPY_MODEL_2d0a2c7d88c1436e938bb2f0149fe4c5",
              "IPY_MODEL_1110ce78ca2c4a1d8b6a30640e7947e7"
            ],
            "layout": "IPY_MODEL_3f1fbcd61e364b93b9e7c50bf1f08634"
          }
        },
        "4747d53ba2594302b66274f26bb15747": {
          "model_module": "@jupyter-widgets/controls",
          "model_name": "HTMLModel",
          "model_module_version": "1.5.0",
          "state": {
            "_dom_classes": [],
            "_model_module": "@jupyter-widgets/controls",
            "_model_module_version": "1.5.0",
            "_model_name": "HTMLModel",
            "_view_count": null,
            "_view_module": "@jupyter-widgets/controls",
            "_view_module_version": "1.5.0",
            "_view_name": "HTMLView",
            "description": "",
            "description_tooltip": null,
            "layout": "IPY_MODEL_fe805c1748b6454991cb5688ecceb203",
            "placeholder": "​",
            "style": "IPY_MODEL_988de1e3affd41fd989b39d31da2d304",
            "value": "config.json: 100%"
          }
        },
        "2d0a2c7d88c1436e938bb2f0149fe4c5": {
          "model_module": "@jupyter-widgets/controls",
          "model_name": "FloatProgressModel",
          "model_module_version": "1.5.0",
          "state": {
            "_dom_classes": [],
            "_model_module": "@jupyter-widgets/controls",
            "_model_module_version": "1.5.0",
            "_model_name": "FloatProgressModel",
            "_view_count": null,
            "_view_module": "@jupyter-widgets/controls",
            "_view_module_version": "1.5.0",
            "_view_name": "ProgressView",
            "bar_style": "success",
            "description": "",
            "description_tooltip": null,
            "layout": "IPY_MODEL_70beb2d1dd744fe6b9531200aef11138",
            "max": 483,
            "min": 0,
            "orientation": "horizontal",
            "style": "IPY_MODEL_bc99849575a5433fb2d8545442165ce7",
            "value": 483
          }
        },
        "1110ce78ca2c4a1d8b6a30640e7947e7": {
          "model_module": "@jupyter-widgets/controls",
          "model_name": "HTMLModel",
          "model_module_version": "1.5.0",
          "state": {
            "_dom_classes": [],
            "_model_module": "@jupyter-widgets/controls",
            "_model_module_version": "1.5.0",
            "_model_name": "HTMLModel",
            "_view_count": null,
            "_view_module": "@jupyter-widgets/controls",
            "_view_module_version": "1.5.0",
            "_view_name": "HTMLView",
            "description": "",
            "description_tooltip": null,
            "layout": "IPY_MODEL_10001bf69bb24af6b4606073c40a4c18",
            "placeholder": "​",
            "style": "IPY_MODEL_f3d37a88530743feb1750b93a22287e3",
            "value": " 483/483 [00:00&lt;00:00, 7.51kB/s]"
          }
        },
        "3f1fbcd61e364b93b9e7c50bf1f08634": {
          "model_module": "@jupyter-widgets/base",
          "model_name": "LayoutModel",
          "model_module_version": "1.2.0",
          "state": {
            "_model_module": "@jupyter-widgets/base",
            "_model_module_version": "1.2.0",
            "_model_name": "LayoutModel",
            "_view_count": null,
            "_view_module": "@jupyter-widgets/base",
            "_view_module_version": "1.2.0",
            "_view_name": "LayoutView",
            "align_content": null,
            "align_items": null,
            "align_self": null,
            "border": null,
            "bottom": null,
            "display": null,
            "flex": null,
            "flex_flow": null,
            "grid_area": null,
            "grid_auto_columns": null,
            "grid_auto_flow": null,
            "grid_auto_rows": null,
            "grid_column": null,
            "grid_gap": null,
            "grid_row": null,
            "grid_template_areas": null,
            "grid_template_columns": null,
            "grid_template_rows": null,
            "height": null,
            "justify_content": null,
            "justify_items": null,
            "left": null,
            "margin": null,
            "max_height": null,
            "max_width": null,
            "min_height": null,
            "min_width": null,
            "object_fit": null,
            "object_position": null,
            "order": null,
            "overflow": null,
            "overflow_x": null,
            "overflow_y": null,
            "padding": null,
            "right": null,
            "top": null,
            "visibility": null,
            "width": null
          }
        },
        "fe805c1748b6454991cb5688ecceb203": {
          "model_module": "@jupyter-widgets/base",
          "model_name": "LayoutModel",
          "model_module_version": "1.2.0",
          "state": {
            "_model_module": "@jupyter-widgets/base",
            "_model_module_version": "1.2.0",
            "_model_name": "LayoutModel",
            "_view_count": null,
            "_view_module": "@jupyter-widgets/base",
            "_view_module_version": "1.2.0",
            "_view_name": "LayoutView",
            "align_content": null,
            "align_items": null,
            "align_self": null,
            "border": null,
            "bottom": null,
            "display": null,
            "flex": null,
            "flex_flow": null,
            "grid_area": null,
            "grid_auto_columns": null,
            "grid_auto_flow": null,
            "grid_auto_rows": null,
            "grid_column": null,
            "grid_gap": null,
            "grid_row": null,
            "grid_template_areas": null,
            "grid_template_columns": null,
            "grid_template_rows": null,
            "height": null,
            "justify_content": null,
            "justify_items": null,
            "left": null,
            "margin": null,
            "max_height": null,
            "max_width": null,
            "min_height": null,
            "min_width": null,
            "object_fit": null,
            "object_position": null,
            "order": null,
            "overflow": null,
            "overflow_x": null,
            "overflow_y": null,
            "padding": null,
            "right": null,
            "top": null,
            "visibility": null,
            "width": null
          }
        },
        "988de1e3affd41fd989b39d31da2d304": {
          "model_module": "@jupyter-widgets/controls",
          "model_name": "DescriptionStyleModel",
          "model_module_version": "1.5.0",
          "state": {
            "_model_module": "@jupyter-widgets/controls",
            "_model_module_version": "1.5.0",
            "_model_name": "DescriptionStyleModel",
            "_view_count": null,
            "_view_module": "@jupyter-widgets/base",
            "_view_module_version": "1.2.0",
            "_view_name": "StyleView",
            "description_width": ""
          }
        },
        "70beb2d1dd744fe6b9531200aef11138": {
          "model_module": "@jupyter-widgets/base",
          "model_name": "LayoutModel",
          "model_module_version": "1.2.0",
          "state": {
            "_model_module": "@jupyter-widgets/base",
            "_model_module_version": "1.2.0",
            "_model_name": "LayoutModel",
            "_view_count": null,
            "_view_module": "@jupyter-widgets/base",
            "_view_module_version": "1.2.0",
            "_view_name": "LayoutView",
            "align_content": null,
            "align_items": null,
            "align_self": null,
            "border": null,
            "bottom": null,
            "display": null,
            "flex": null,
            "flex_flow": null,
            "grid_area": null,
            "grid_auto_columns": null,
            "grid_auto_flow": null,
            "grid_auto_rows": null,
            "grid_column": null,
            "grid_gap": null,
            "grid_row": null,
            "grid_template_areas": null,
            "grid_template_columns": null,
            "grid_template_rows": null,
            "height": null,
            "justify_content": null,
            "justify_items": null,
            "left": null,
            "margin": null,
            "max_height": null,
            "max_width": null,
            "min_height": null,
            "min_width": null,
            "object_fit": null,
            "object_position": null,
            "order": null,
            "overflow": null,
            "overflow_x": null,
            "overflow_y": null,
            "padding": null,
            "right": null,
            "top": null,
            "visibility": null,
            "width": null
          }
        },
        "bc99849575a5433fb2d8545442165ce7": {
          "model_module": "@jupyter-widgets/controls",
          "model_name": "ProgressStyleModel",
          "model_module_version": "1.5.0",
          "state": {
            "_model_module": "@jupyter-widgets/controls",
            "_model_module_version": "1.5.0",
            "_model_name": "ProgressStyleModel",
            "_view_count": null,
            "_view_module": "@jupyter-widgets/base",
            "_view_module_version": "1.2.0",
            "_view_name": "StyleView",
            "bar_color": null,
            "description_width": ""
          }
        },
        "10001bf69bb24af6b4606073c40a4c18": {
          "model_module": "@jupyter-widgets/base",
          "model_name": "LayoutModel",
          "model_module_version": "1.2.0",
          "state": {
            "_model_module": "@jupyter-widgets/base",
            "_model_module_version": "1.2.0",
            "_model_name": "LayoutModel",
            "_view_count": null,
            "_view_module": "@jupyter-widgets/base",
            "_view_module_version": "1.2.0",
            "_view_name": "LayoutView",
            "align_content": null,
            "align_items": null,
            "align_self": null,
            "border": null,
            "bottom": null,
            "display": null,
            "flex": null,
            "flex_flow": null,
            "grid_area": null,
            "grid_auto_columns": null,
            "grid_auto_flow": null,
            "grid_auto_rows": null,
            "grid_column": null,
            "grid_gap": null,
            "grid_row": null,
            "grid_template_areas": null,
            "grid_template_columns": null,
            "grid_template_rows": null,
            "height": null,
            "justify_content": null,
            "justify_items": null,
            "left": null,
            "margin": null,
            "max_height": null,
            "max_width": null,
            "min_height": null,
            "min_width": null,
            "object_fit": null,
            "object_position": null,
            "order": null,
            "overflow": null,
            "overflow_x": null,
            "overflow_y": null,
            "padding": null,
            "right": null,
            "top": null,
            "visibility": null,
            "width": null
          }
        },
        "f3d37a88530743feb1750b93a22287e3": {
          "model_module": "@jupyter-widgets/controls",
          "model_name": "DescriptionStyleModel",
          "model_module_version": "1.5.0",
          "state": {
            "_model_module": "@jupyter-widgets/controls",
            "_model_module_version": "1.5.0",
            "_model_name": "DescriptionStyleModel",
            "_view_count": null,
            "_view_module": "@jupyter-widgets/base",
            "_view_module_version": "1.2.0",
            "_view_name": "StyleView",
            "description_width": ""
          }
        },
        "f0315a2f17ac4f8595b94047b9d148e2": {
          "model_module": "@jupyter-widgets/controls",
          "model_name": "HBoxModel",
          "model_module_version": "1.5.0",
          "state": {
            "_dom_classes": [],
            "_model_module": "@jupyter-widgets/controls",
            "_model_module_version": "1.5.0",
            "_model_name": "HBoxModel",
            "_view_count": null,
            "_view_module": "@jupyter-widgets/controls",
            "_view_module_version": "1.5.0",
            "_view_name": "HBoxView",
            "box_style": "",
            "children": [
              "IPY_MODEL_b6499693640349fa81d1adef327b736d",
              "IPY_MODEL_fde32e1a262d4bc49bb86aa6555fa46d",
              "IPY_MODEL_a56c90b328944d5282cf75ee8aab7e00"
            ],
            "layout": "IPY_MODEL_872946e77d3c4f5d90b30df3ca92013f"
          }
        },
        "b6499693640349fa81d1adef327b736d": {
          "model_module": "@jupyter-widgets/controls",
          "model_name": "HTMLModel",
          "model_module_version": "1.5.0",
          "state": {
            "_dom_classes": [],
            "_model_module": "@jupyter-widgets/controls",
            "_model_module_version": "1.5.0",
            "_model_name": "HTMLModel",
            "_view_count": null,
            "_view_module": "@jupyter-widgets/controls",
            "_view_module_version": "1.5.0",
            "_view_name": "HTMLView",
            "description": "",
            "description_tooltip": null,
            "layout": "IPY_MODEL_082afbb7253b403a85f6eb89e552a391",
            "placeholder": "​",
            "style": "IPY_MODEL_bb6eb60c01eb43e49c73761e4a81bf61",
            "value": "vocab.txt: 100%"
          }
        },
        "fde32e1a262d4bc49bb86aa6555fa46d": {
          "model_module": "@jupyter-widgets/controls",
          "model_name": "FloatProgressModel",
          "model_module_version": "1.5.0",
          "state": {
            "_dom_classes": [],
            "_model_module": "@jupyter-widgets/controls",
            "_model_module_version": "1.5.0",
            "_model_name": "FloatProgressModel",
            "_view_count": null,
            "_view_module": "@jupyter-widgets/controls",
            "_view_module_version": "1.5.0",
            "_view_name": "ProgressView",
            "bar_style": "success",
            "description": "",
            "description_tooltip": null,
            "layout": "IPY_MODEL_e7d99d60fb0f48428cfbf19246f3a779",
            "max": 231508,
            "min": 0,
            "orientation": "horizontal",
            "style": "IPY_MODEL_ca4c7cb046f44110a052cc7bb03308ed",
            "value": 231508
          }
        },
        "a56c90b328944d5282cf75ee8aab7e00": {
          "model_module": "@jupyter-widgets/controls",
          "model_name": "HTMLModel",
          "model_module_version": "1.5.0",
          "state": {
            "_dom_classes": [],
            "_model_module": "@jupyter-widgets/controls",
            "_model_module_version": "1.5.0",
            "_model_name": "HTMLModel",
            "_view_count": null,
            "_view_module": "@jupyter-widgets/controls",
            "_view_module_version": "1.5.0",
            "_view_name": "HTMLView",
            "description": "",
            "description_tooltip": null,
            "layout": "IPY_MODEL_4e8be0f2e0c945338f03ccb3b4172949",
            "placeholder": "​",
            "style": "IPY_MODEL_1863bfb627b147f0a8796a1d8e0d5f3e",
            "value": " 232k/232k [00:00&lt;00:00, 1.85MB/s]"
          }
        },
        "872946e77d3c4f5d90b30df3ca92013f": {
          "model_module": "@jupyter-widgets/base",
          "model_name": "LayoutModel",
          "model_module_version": "1.2.0",
          "state": {
            "_model_module": "@jupyter-widgets/base",
            "_model_module_version": "1.2.0",
            "_model_name": "LayoutModel",
            "_view_count": null,
            "_view_module": "@jupyter-widgets/base",
            "_view_module_version": "1.2.0",
            "_view_name": "LayoutView",
            "align_content": null,
            "align_items": null,
            "align_self": null,
            "border": null,
            "bottom": null,
            "display": null,
            "flex": null,
            "flex_flow": null,
            "grid_area": null,
            "grid_auto_columns": null,
            "grid_auto_flow": null,
            "grid_auto_rows": null,
            "grid_column": null,
            "grid_gap": null,
            "grid_row": null,
            "grid_template_areas": null,
            "grid_template_columns": null,
            "grid_template_rows": null,
            "height": null,
            "justify_content": null,
            "justify_items": null,
            "left": null,
            "margin": null,
            "max_height": null,
            "max_width": null,
            "min_height": null,
            "min_width": null,
            "object_fit": null,
            "object_position": null,
            "order": null,
            "overflow": null,
            "overflow_x": null,
            "overflow_y": null,
            "padding": null,
            "right": null,
            "top": null,
            "visibility": null,
            "width": null
          }
        },
        "082afbb7253b403a85f6eb89e552a391": {
          "model_module": "@jupyter-widgets/base",
          "model_name": "LayoutModel",
          "model_module_version": "1.2.0",
          "state": {
            "_model_module": "@jupyter-widgets/base",
            "_model_module_version": "1.2.0",
            "_model_name": "LayoutModel",
            "_view_count": null,
            "_view_module": "@jupyter-widgets/base",
            "_view_module_version": "1.2.0",
            "_view_name": "LayoutView",
            "align_content": null,
            "align_items": null,
            "align_self": null,
            "border": null,
            "bottom": null,
            "display": null,
            "flex": null,
            "flex_flow": null,
            "grid_area": null,
            "grid_auto_columns": null,
            "grid_auto_flow": null,
            "grid_auto_rows": null,
            "grid_column": null,
            "grid_gap": null,
            "grid_row": null,
            "grid_template_areas": null,
            "grid_template_columns": null,
            "grid_template_rows": null,
            "height": null,
            "justify_content": null,
            "justify_items": null,
            "left": null,
            "margin": null,
            "max_height": null,
            "max_width": null,
            "min_height": null,
            "min_width": null,
            "object_fit": null,
            "object_position": null,
            "order": null,
            "overflow": null,
            "overflow_x": null,
            "overflow_y": null,
            "padding": null,
            "right": null,
            "top": null,
            "visibility": null,
            "width": null
          }
        },
        "bb6eb60c01eb43e49c73761e4a81bf61": {
          "model_module": "@jupyter-widgets/controls",
          "model_name": "DescriptionStyleModel",
          "model_module_version": "1.5.0",
          "state": {
            "_model_module": "@jupyter-widgets/controls",
            "_model_module_version": "1.5.0",
            "_model_name": "DescriptionStyleModel",
            "_view_count": null,
            "_view_module": "@jupyter-widgets/base",
            "_view_module_version": "1.2.0",
            "_view_name": "StyleView",
            "description_width": ""
          }
        },
        "e7d99d60fb0f48428cfbf19246f3a779": {
          "model_module": "@jupyter-widgets/base",
          "model_name": "LayoutModel",
          "model_module_version": "1.2.0",
          "state": {
            "_model_module": "@jupyter-widgets/base",
            "_model_module_version": "1.2.0",
            "_model_name": "LayoutModel",
            "_view_count": null,
            "_view_module": "@jupyter-widgets/base",
            "_view_module_version": "1.2.0",
            "_view_name": "LayoutView",
            "align_content": null,
            "align_items": null,
            "align_self": null,
            "border": null,
            "bottom": null,
            "display": null,
            "flex": null,
            "flex_flow": null,
            "grid_area": null,
            "grid_auto_columns": null,
            "grid_auto_flow": null,
            "grid_auto_rows": null,
            "grid_column": null,
            "grid_gap": null,
            "grid_row": null,
            "grid_template_areas": null,
            "grid_template_columns": null,
            "grid_template_rows": null,
            "height": null,
            "justify_content": null,
            "justify_items": null,
            "left": null,
            "margin": null,
            "max_height": null,
            "max_width": null,
            "min_height": null,
            "min_width": null,
            "object_fit": null,
            "object_position": null,
            "order": null,
            "overflow": null,
            "overflow_x": null,
            "overflow_y": null,
            "padding": null,
            "right": null,
            "top": null,
            "visibility": null,
            "width": null
          }
        },
        "ca4c7cb046f44110a052cc7bb03308ed": {
          "model_module": "@jupyter-widgets/controls",
          "model_name": "ProgressStyleModel",
          "model_module_version": "1.5.0",
          "state": {
            "_model_module": "@jupyter-widgets/controls",
            "_model_module_version": "1.5.0",
            "_model_name": "ProgressStyleModel",
            "_view_count": null,
            "_view_module": "@jupyter-widgets/base",
            "_view_module_version": "1.2.0",
            "_view_name": "StyleView",
            "bar_color": null,
            "description_width": ""
          }
        },
        "4e8be0f2e0c945338f03ccb3b4172949": {
          "model_module": "@jupyter-widgets/base",
          "model_name": "LayoutModel",
          "model_module_version": "1.2.0",
          "state": {
            "_model_module": "@jupyter-widgets/base",
            "_model_module_version": "1.2.0",
            "_model_name": "LayoutModel",
            "_view_count": null,
            "_view_module": "@jupyter-widgets/base",
            "_view_module_version": "1.2.0",
            "_view_name": "LayoutView",
            "align_content": null,
            "align_items": null,
            "align_self": null,
            "border": null,
            "bottom": null,
            "display": null,
            "flex": null,
            "flex_flow": null,
            "grid_area": null,
            "grid_auto_columns": null,
            "grid_auto_flow": null,
            "grid_auto_rows": null,
            "grid_column": null,
            "grid_gap": null,
            "grid_row": null,
            "grid_template_areas": null,
            "grid_template_columns": null,
            "grid_template_rows": null,
            "height": null,
            "justify_content": null,
            "justify_items": null,
            "left": null,
            "margin": null,
            "max_height": null,
            "max_width": null,
            "min_height": null,
            "min_width": null,
            "object_fit": null,
            "object_position": null,
            "order": null,
            "overflow": null,
            "overflow_x": null,
            "overflow_y": null,
            "padding": null,
            "right": null,
            "top": null,
            "visibility": null,
            "width": null
          }
        },
        "1863bfb627b147f0a8796a1d8e0d5f3e": {
          "model_module": "@jupyter-widgets/controls",
          "model_name": "DescriptionStyleModel",
          "model_module_version": "1.5.0",
          "state": {
            "_model_module": "@jupyter-widgets/controls",
            "_model_module_version": "1.5.0",
            "_model_name": "DescriptionStyleModel",
            "_view_count": null,
            "_view_module": "@jupyter-widgets/base",
            "_view_module_version": "1.2.0",
            "_view_name": "StyleView",
            "description_width": ""
          }
        },
        "85671d021f66470c979505585ea2847b": {
          "model_module": "@jupyter-widgets/controls",
          "model_name": "HBoxModel",
          "model_module_version": "1.5.0",
          "state": {
            "_dom_classes": [],
            "_model_module": "@jupyter-widgets/controls",
            "_model_module_version": "1.5.0",
            "_model_name": "HBoxModel",
            "_view_count": null,
            "_view_module": "@jupyter-widgets/controls",
            "_view_module_version": "1.5.0",
            "_view_name": "HBoxView",
            "box_style": "",
            "children": [
              "IPY_MODEL_861643feddae406688ba6949f7a0306f",
              "IPY_MODEL_ea5a7c2f440b466984e128e791376bb7",
              "IPY_MODEL_366c4b80318a4f98a0dacfc17628f02b"
            ],
            "layout": "IPY_MODEL_f1e0f7c89f0e4e8cb061a41d120af260"
          }
        },
        "861643feddae406688ba6949f7a0306f": {
          "model_module": "@jupyter-widgets/controls",
          "model_name": "HTMLModel",
          "model_module_version": "1.5.0",
          "state": {
            "_dom_classes": [],
            "_model_module": "@jupyter-widgets/controls",
            "_model_module_version": "1.5.0",
            "_model_name": "HTMLModel",
            "_view_count": null,
            "_view_module": "@jupyter-widgets/controls",
            "_view_module_version": "1.5.0",
            "_view_name": "HTMLView",
            "description": "",
            "description_tooltip": null,
            "layout": "IPY_MODEL_8ad7f112081e45cd97648f856a80d049",
            "placeholder": "​",
            "style": "IPY_MODEL_5ef9f19554794e71a674856b47fc4799",
            "value": "tokenizer.json: 100%"
          }
        },
        "ea5a7c2f440b466984e128e791376bb7": {
          "model_module": "@jupyter-widgets/controls",
          "model_name": "FloatProgressModel",
          "model_module_version": "1.5.0",
          "state": {
            "_dom_classes": [],
            "_model_module": "@jupyter-widgets/controls",
            "_model_module_version": "1.5.0",
            "_model_name": "FloatProgressModel",
            "_view_count": null,
            "_view_module": "@jupyter-widgets/controls",
            "_view_module_version": "1.5.0",
            "_view_name": "ProgressView",
            "bar_style": "success",
            "description": "",
            "description_tooltip": null,
            "layout": "IPY_MODEL_f11f931a63904dbb96f56863bded6006",
            "max": 466062,
            "min": 0,
            "orientation": "horizontal",
            "style": "IPY_MODEL_70c08a4f634d4053b31a5eacb38792b6",
            "value": 466062
          }
        },
        "366c4b80318a4f98a0dacfc17628f02b": {
          "model_module": "@jupyter-widgets/controls",
          "model_name": "HTMLModel",
          "model_module_version": "1.5.0",
          "state": {
            "_dom_classes": [],
            "_model_module": "@jupyter-widgets/controls",
            "_model_module_version": "1.5.0",
            "_model_name": "HTMLModel",
            "_view_count": null,
            "_view_module": "@jupyter-widgets/controls",
            "_view_module_version": "1.5.0",
            "_view_name": "HTMLView",
            "description": "",
            "description_tooltip": null,
            "layout": "IPY_MODEL_12a44dcaa08941d785e399424d2ecd41",
            "placeholder": "​",
            "style": "IPY_MODEL_ffafae5a49e14791a7a9f9fb55730965",
            "value": " 466k/466k [00:00&lt;00:00, 5.92MB/s]"
          }
        },
        "f1e0f7c89f0e4e8cb061a41d120af260": {
          "model_module": "@jupyter-widgets/base",
          "model_name": "LayoutModel",
          "model_module_version": "1.2.0",
          "state": {
            "_model_module": "@jupyter-widgets/base",
            "_model_module_version": "1.2.0",
            "_model_name": "LayoutModel",
            "_view_count": null,
            "_view_module": "@jupyter-widgets/base",
            "_view_module_version": "1.2.0",
            "_view_name": "LayoutView",
            "align_content": null,
            "align_items": null,
            "align_self": null,
            "border": null,
            "bottom": null,
            "display": null,
            "flex": null,
            "flex_flow": null,
            "grid_area": null,
            "grid_auto_columns": null,
            "grid_auto_flow": null,
            "grid_auto_rows": null,
            "grid_column": null,
            "grid_gap": null,
            "grid_row": null,
            "grid_template_areas": null,
            "grid_template_columns": null,
            "grid_template_rows": null,
            "height": null,
            "justify_content": null,
            "justify_items": null,
            "left": null,
            "margin": null,
            "max_height": null,
            "max_width": null,
            "min_height": null,
            "min_width": null,
            "object_fit": null,
            "object_position": null,
            "order": null,
            "overflow": null,
            "overflow_x": null,
            "overflow_y": null,
            "padding": null,
            "right": null,
            "top": null,
            "visibility": null,
            "width": null
          }
        },
        "8ad7f112081e45cd97648f856a80d049": {
          "model_module": "@jupyter-widgets/base",
          "model_name": "LayoutModel",
          "model_module_version": "1.2.0",
          "state": {
            "_model_module": "@jupyter-widgets/base",
            "_model_module_version": "1.2.0",
            "_model_name": "LayoutModel",
            "_view_count": null,
            "_view_module": "@jupyter-widgets/base",
            "_view_module_version": "1.2.0",
            "_view_name": "LayoutView",
            "align_content": null,
            "align_items": null,
            "align_self": null,
            "border": null,
            "bottom": null,
            "display": null,
            "flex": null,
            "flex_flow": null,
            "grid_area": null,
            "grid_auto_columns": null,
            "grid_auto_flow": null,
            "grid_auto_rows": null,
            "grid_column": null,
            "grid_gap": null,
            "grid_row": null,
            "grid_template_areas": null,
            "grid_template_columns": null,
            "grid_template_rows": null,
            "height": null,
            "justify_content": null,
            "justify_items": null,
            "left": null,
            "margin": null,
            "max_height": null,
            "max_width": null,
            "min_height": null,
            "min_width": null,
            "object_fit": null,
            "object_position": null,
            "order": null,
            "overflow": null,
            "overflow_x": null,
            "overflow_y": null,
            "padding": null,
            "right": null,
            "top": null,
            "visibility": null,
            "width": null
          }
        },
        "5ef9f19554794e71a674856b47fc4799": {
          "model_module": "@jupyter-widgets/controls",
          "model_name": "DescriptionStyleModel",
          "model_module_version": "1.5.0",
          "state": {
            "_model_module": "@jupyter-widgets/controls",
            "_model_module_version": "1.5.0",
            "_model_name": "DescriptionStyleModel",
            "_view_count": null,
            "_view_module": "@jupyter-widgets/base",
            "_view_module_version": "1.2.0",
            "_view_name": "StyleView",
            "description_width": ""
          }
        },
        "f11f931a63904dbb96f56863bded6006": {
          "model_module": "@jupyter-widgets/base",
          "model_name": "LayoutModel",
          "model_module_version": "1.2.0",
          "state": {
            "_model_module": "@jupyter-widgets/base",
            "_model_module_version": "1.2.0",
            "_model_name": "LayoutModel",
            "_view_count": null,
            "_view_module": "@jupyter-widgets/base",
            "_view_module_version": "1.2.0",
            "_view_name": "LayoutView",
            "align_content": null,
            "align_items": null,
            "align_self": null,
            "border": null,
            "bottom": null,
            "display": null,
            "flex": null,
            "flex_flow": null,
            "grid_area": null,
            "grid_auto_columns": null,
            "grid_auto_flow": null,
            "grid_auto_rows": null,
            "grid_column": null,
            "grid_gap": null,
            "grid_row": null,
            "grid_template_areas": null,
            "grid_template_columns": null,
            "grid_template_rows": null,
            "height": null,
            "justify_content": null,
            "justify_items": null,
            "left": null,
            "margin": null,
            "max_height": null,
            "max_width": null,
            "min_height": null,
            "min_width": null,
            "object_fit": null,
            "object_position": null,
            "order": null,
            "overflow": null,
            "overflow_x": null,
            "overflow_y": null,
            "padding": null,
            "right": null,
            "top": null,
            "visibility": null,
            "width": null
          }
        },
        "70c08a4f634d4053b31a5eacb38792b6": {
          "model_module": "@jupyter-widgets/controls",
          "model_name": "ProgressStyleModel",
          "model_module_version": "1.5.0",
          "state": {
            "_model_module": "@jupyter-widgets/controls",
            "_model_module_version": "1.5.0",
            "_model_name": "ProgressStyleModel",
            "_view_count": null,
            "_view_module": "@jupyter-widgets/base",
            "_view_module_version": "1.2.0",
            "_view_name": "StyleView",
            "bar_color": null,
            "description_width": ""
          }
        },
        "12a44dcaa08941d785e399424d2ecd41": {
          "model_module": "@jupyter-widgets/base",
          "model_name": "LayoutModel",
          "model_module_version": "1.2.0",
          "state": {
            "_model_module": "@jupyter-widgets/base",
            "_model_module_version": "1.2.0",
            "_model_name": "LayoutModel",
            "_view_count": null,
            "_view_module": "@jupyter-widgets/base",
            "_view_module_version": "1.2.0",
            "_view_name": "LayoutView",
            "align_content": null,
            "align_items": null,
            "align_self": null,
            "border": null,
            "bottom": null,
            "display": null,
            "flex": null,
            "flex_flow": null,
            "grid_area": null,
            "grid_auto_columns": null,
            "grid_auto_flow": null,
            "grid_auto_rows": null,
            "grid_column": null,
            "grid_gap": null,
            "grid_row": null,
            "grid_template_areas": null,
            "grid_template_columns": null,
            "grid_template_rows": null,
            "height": null,
            "justify_content": null,
            "justify_items": null,
            "left": null,
            "margin": null,
            "max_height": null,
            "max_width": null,
            "min_height": null,
            "min_width": null,
            "object_fit": null,
            "object_position": null,
            "order": null,
            "overflow": null,
            "overflow_x": null,
            "overflow_y": null,
            "padding": null,
            "right": null,
            "top": null,
            "visibility": null,
            "width": null
          }
        },
        "ffafae5a49e14791a7a9f9fb55730965": {
          "model_module": "@jupyter-widgets/controls",
          "model_name": "DescriptionStyleModel",
          "model_module_version": "1.5.0",
          "state": {
            "_model_module": "@jupyter-widgets/controls",
            "_model_module_version": "1.5.0",
            "_model_name": "DescriptionStyleModel",
            "_view_count": null,
            "_view_module": "@jupyter-widgets/base",
            "_view_module_version": "1.2.0",
            "_view_name": "StyleView",
            "description_width": ""
          }
        },
        "c853b03515e54537afb7dd77c33ae605": {
          "model_module": "@jupyter-widgets/controls",
          "model_name": "HBoxModel",
          "model_module_version": "1.5.0",
          "state": {
            "_dom_classes": [],
            "_model_module": "@jupyter-widgets/controls",
            "_model_module_version": "1.5.0",
            "_model_name": "HBoxModel",
            "_view_count": null,
            "_view_module": "@jupyter-widgets/controls",
            "_view_module_version": "1.5.0",
            "_view_name": "HBoxView",
            "box_style": "",
            "children": [
              "IPY_MODEL_d91e09a3d3e3415d8588df433730b656",
              "IPY_MODEL_d08a8ddc9b7b42f6ba5d359a63c96b6c",
              "IPY_MODEL_2211627280124bc7bf4873a29025fb8b"
            ],
            "layout": "IPY_MODEL_02597ae035804e13b88a32a4a6c9a35a"
          }
        },
        "d91e09a3d3e3415d8588df433730b656": {
          "model_module": "@jupyter-widgets/controls",
          "model_name": "HTMLModel",
          "model_module_version": "1.5.0",
          "state": {
            "_dom_classes": [],
            "_model_module": "@jupyter-widgets/controls",
            "_model_module_version": "1.5.0",
            "_model_name": "HTMLModel",
            "_view_count": null,
            "_view_module": "@jupyter-widgets/controls",
            "_view_module_version": "1.5.0",
            "_view_name": "HTMLView",
            "description": "",
            "description_tooltip": null,
            "layout": "IPY_MODEL_08591ee723654b97890dd19e1930823a",
            "placeholder": "​",
            "style": "IPY_MODEL_e2022acf468449e8979b7712efdc3105",
            "value": "model.safetensors: 100%"
          }
        },
        "d08a8ddc9b7b42f6ba5d359a63c96b6c": {
          "model_module": "@jupyter-widgets/controls",
          "model_name": "FloatProgressModel",
          "model_module_version": "1.5.0",
          "state": {
            "_dom_classes": [],
            "_model_module": "@jupyter-widgets/controls",
            "_model_module_version": "1.5.0",
            "_model_name": "FloatProgressModel",
            "_view_count": null,
            "_view_module": "@jupyter-widgets/controls",
            "_view_module_version": "1.5.0",
            "_view_name": "ProgressView",
            "bar_style": "success",
            "description": "",
            "description_tooltip": null,
            "layout": "IPY_MODEL_1f766d4416ab4124a7aaaecf45a9e0c2",
            "max": 267954768,
            "min": 0,
            "orientation": "horizontal",
            "style": "IPY_MODEL_a59cd26a418a4fb0965b82a57cd18c7a",
            "value": 267954768
          }
        },
        "2211627280124bc7bf4873a29025fb8b": {
          "model_module": "@jupyter-widgets/controls",
          "model_name": "HTMLModel",
          "model_module_version": "1.5.0",
          "state": {
            "_dom_classes": [],
            "_model_module": "@jupyter-widgets/controls",
            "_model_module_version": "1.5.0",
            "_model_name": "HTMLModel",
            "_view_count": null,
            "_view_module": "@jupyter-widgets/controls",
            "_view_module_version": "1.5.0",
            "_view_name": "HTMLView",
            "description": "",
            "description_tooltip": null,
            "layout": "IPY_MODEL_9a5a837797b14772a93951100375954b",
            "placeholder": "​",
            "style": "IPY_MODEL_9df940518a0749c380f5eeab8bc87b29",
            "value": " 268M/268M [00:02&lt;00:00, 129MB/s]"
          }
        },
        "02597ae035804e13b88a32a4a6c9a35a": {
          "model_module": "@jupyter-widgets/base",
          "model_name": "LayoutModel",
          "model_module_version": "1.2.0",
          "state": {
            "_model_module": "@jupyter-widgets/base",
            "_model_module_version": "1.2.0",
            "_model_name": "LayoutModel",
            "_view_count": null,
            "_view_module": "@jupyter-widgets/base",
            "_view_module_version": "1.2.0",
            "_view_name": "LayoutView",
            "align_content": null,
            "align_items": null,
            "align_self": null,
            "border": null,
            "bottom": null,
            "display": null,
            "flex": null,
            "flex_flow": null,
            "grid_area": null,
            "grid_auto_columns": null,
            "grid_auto_flow": null,
            "grid_auto_rows": null,
            "grid_column": null,
            "grid_gap": null,
            "grid_row": null,
            "grid_template_areas": null,
            "grid_template_columns": null,
            "grid_template_rows": null,
            "height": null,
            "justify_content": null,
            "justify_items": null,
            "left": null,
            "margin": null,
            "max_height": null,
            "max_width": null,
            "min_height": null,
            "min_width": null,
            "object_fit": null,
            "object_position": null,
            "order": null,
            "overflow": null,
            "overflow_x": null,
            "overflow_y": null,
            "padding": null,
            "right": null,
            "top": null,
            "visibility": null,
            "width": null
          }
        },
        "08591ee723654b97890dd19e1930823a": {
          "model_module": "@jupyter-widgets/base",
          "model_name": "LayoutModel",
          "model_module_version": "1.2.0",
          "state": {
            "_model_module": "@jupyter-widgets/base",
            "_model_module_version": "1.2.0",
            "_model_name": "LayoutModel",
            "_view_count": null,
            "_view_module": "@jupyter-widgets/base",
            "_view_module_version": "1.2.0",
            "_view_name": "LayoutView",
            "align_content": null,
            "align_items": null,
            "align_self": null,
            "border": null,
            "bottom": null,
            "display": null,
            "flex": null,
            "flex_flow": null,
            "grid_area": null,
            "grid_auto_columns": null,
            "grid_auto_flow": null,
            "grid_auto_rows": null,
            "grid_column": null,
            "grid_gap": null,
            "grid_row": null,
            "grid_template_areas": null,
            "grid_template_columns": null,
            "grid_template_rows": null,
            "height": null,
            "justify_content": null,
            "justify_items": null,
            "left": null,
            "margin": null,
            "max_height": null,
            "max_width": null,
            "min_height": null,
            "min_width": null,
            "object_fit": null,
            "object_position": null,
            "order": null,
            "overflow": null,
            "overflow_x": null,
            "overflow_y": null,
            "padding": null,
            "right": null,
            "top": null,
            "visibility": null,
            "width": null
          }
        },
        "e2022acf468449e8979b7712efdc3105": {
          "model_module": "@jupyter-widgets/controls",
          "model_name": "DescriptionStyleModel",
          "model_module_version": "1.5.0",
          "state": {
            "_model_module": "@jupyter-widgets/controls",
            "_model_module_version": "1.5.0",
            "_model_name": "DescriptionStyleModel",
            "_view_count": null,
            "_view_module": "@jupyter-widgets/base",
            "_view_module_version": "1.2.0",
            "_view_name": "StyleView",
            "description_width": ""
          }
        },
        "1f766d4416ab4124a7aaaecf45a9e0c2": {
          "model_module": "@jupyter-widgets/base",
          "model_name": "LayoutModel",
          "model_module_version": "1.2.0",
          "state": {
            "_model_module": "@jupyter-widgets/base",
            "_model_module_version": "1.2.0",
            "_model_name": "LayoutModel",
            "_view_count": null,
            "_view_module": "@jupyter-widgets/base",
            "_view_module_version": "1.2.0",
            "_view_name": "LayoutView",
            "align_content": null,
            "align_items": null,
            "align_self": null,
            "border": null,
            "bottom": null,
            "display": null,
            "flex": null,
            "flex_flow": null,
            "grid_area": null,
            "grid_auto_columns": null,
            "grid_auto_flow": null,
            "grid_auto_rows": null,
            "grid_column": null,
            "grid_gap": null,
            "grid_row": null,
            "grid_template_areas": null,
            "grid_template_columns": null,
            "grid_template_rows": null,
            "height": null,
            "justify_content": null,
            "justify_items": null,
            "left": null,
            "margin": null,
            "max_height": null,
            "max_width": null,
            "min_height": null,
            "min_width": null,
            "object_fit": null,
            "object_position": null,
            "order": null,
            "overflow": null,
            "overflow_x": null,
            "overflow_y": null,
            "padding": null,
            "right": null,
            "top": null,
            "visibility": null,
            "width": null
          }
        },
        "a59cd26a418a4fb0965b82a57cd18c7a": {
          "model_module": "@jupyter-widgets/controls",
          "model_name": "ProgressStyleModel",
          "model_module_version": "1.5.0",
          "state": {
            "_model_module": "@jupyter-widgets/controls",
            "_model_module_version": "1.5.0",
            "_model_name": "ProgressStyleModel",
            "_view_count": null,
            "_view_module": "@jupyter-widgets/base",
            "_view_module_version": "1.2.0",
            "_view_name": "StyleView",
            "bar_color": null,
            "description_width": ""
          }
        },
        "9a5a837797b14772a93951100375954b": {
          "model_module": "@jupyter-widgets/base",
          "model_name": "LayoutModel",
          "model_module_version": "1.2.0",
          "state": {
            "_model_module": "@jupyter-widgets/base",
            "_model_module_version": "1.2.0",
            "_model_name": "LayoutModel",
            "_view_count": null,
            "_view_module": "@jupyter-widgets/base",
            "_view_module_version": "1.2.0",
            "_view_name": "LayoutView",
            "align_content": null,
            "align_items": null,
            "align_self": null,
            "border": null,
            "bottom": null,
            "display": null,
            "flex": null,
            "flex_flow": null,
            "grid_area": null,
            "grid_auto_columns": null,
            "grid_auto_flow": null,
            "grid_auto_rows": null,
            "grid_column": null,
            "grid_gap": null,
            "grid_row": null,
            "grid_template_areas": null,
            "grid_template_columns": null,
            "grid_template_rows": null,
            "height": null,
            "justify_content": null,
            "justify_items": null,
            "left": null,
            "margin": null,
            "max_height": null,
            "max_width": null,
            "min_height": null,
            "min_width": null,
            "object_fit": null,
            "object_position": null,
            "order": null,
            "overflow": null,
            "overflow_x": null,
            "overflow_y": null,
            "padding": null,
            "right": null,
            "top": null,
            "visibility": null,
            "width": null
          }
        },
        "9df940518a0749c380f5eeab8bc87b29": {
          "model_module": "@jupyter-widgets/controls",
          "model_name": "DescriptionStyleModel",
          "model_module_version": "1.5.0",
          "state": {
            "_model_module": "@jupyter-widgets/controls",
            "_model_module_version": "1.5.0",
            "_model_name": "DescriptionStyleModel",
            "_view_count": null,
            "_view_module": "@jupyter-widgets/base",
            "_view_module_version": "1.2.0",
            "_view_name": "StyleView",
            "description_width": ""
          }
        }
      }
    }
  },
  "cells": [
    {
      "cell_type": "code",
      "execution_count": 25,
      "metadata": {
        "id": "hsGOEgdN-Y5r"
      },
      "outputs": [],
      "source": [
        "# Import Libraries\n",
        "import tensorflow as tf\n",
        "from transformers import TFAutoModel, AutoTokenizer\n",
        "from sklearn.cluster import KMeans\n",
        "from sklearn.metrics.pairwise import cosine_similarity\n",
        "from sklearn.model_selection import train_test_split\n",
        "from sklearn.metrics import confusion_matrix, ConfusionMatrixDisplay\n",
        "import numpy as np\n",
        "import json\n",
        "import os\n",
        "import matplotlib.pyplot as plt"
      ]
    },
    {
      "cell_type": "code",
      "source": [
        "print(\"TensorFlow version:\", tf.__version__)\n",
        "print(\"NumPy version:\", np.__version__)\n",
        "print(\"JSON version:\", json.__version__) # Might not be directly accessible as a version"
      ],
      "metadata": {
        "colab": {
          "base_uri": "https://localhost:8080/"
        },
        "id": "rAbZK2g8eM2C",
        "outputId": "7791f10c-aba7-49d8-8c8a-53b77fa5c8e0"
      },
      "execution_count": 57,
      "outputs": [
        {
          "output_type": "stream",
          "name": "stdout",
          "text": [
            "TensorFlow version: 2.17.1\n",
            "NumPy version: 1.26.4\n",
            "JSON version: 2.0.9\n"
          ]
        }
      ]
    },
    {
      "cell_type": "code",
      "source": [
        "# Import Data\n",
        "with open(\"dataset_findup.json\", \"r\") as file:\n",
        "    data = json.load(file)"
      ],
      "metadata": {
        "id": "kIODn5h_-02E"
      },
      "execution_count": 2,
      "outputs": []
    },
    {
      "cell_type": "code",
      "source": [
        "# Load Pretrained Model\n",
        "def load_model_and_tokenizer(model_name=\"distilbert-base-uncased\"):\n",
        "    tokenizer = AutoTokenizer.from_pretrained(model_name)\n",
        "    model = TFAutoModel.from_pretrained(model_name)\n",
        "    return tokenizer, model"
      ],
      "metadata": {
        "id": "Pk3C0Dq5-_0B"
      },
      "execution_count": 3,
      "outputs": []
    },
    {
      "cell_type": "code",
      "source": [
        "tokenizer, pretrained_model = load_model_and_tokenizer()"
      ],
      "metadata": {
        "colab": {
          "base_uri": "https://localhost:8080/",
          "height": 388,
          "referenced_widgets": [
            "5b08899532b649b2850d95f0350ca321",
            "f9bb6336125c47d1b7894f1a4fcbbe55",
            "38f16bb6411748e2b1e7b7d0bc4260aa",
            "0082f80d12314ebc8489179305b0d160",
            "9fa495450fec451b8b923ebf3f3ab642",
            "0efc7c1fbadd489c82bc2faefeb8f099",
            "9c8c2034d0444f7282a7f7fc39563cdc",
            "6750fe3ae387406eabfee9d27f1ab064",
            "ed977fb92cee448fb225164b2b2ea6a4",
            "b3ad4f6fc12c4a349cc252732b44ce0f",
            "bc59229ea0e04d81b42edbbec419a3d4",
            "6690588aebd74984aa8e14975774fb2b",
            "4747d53ba2594302b66274f26bb15747",
            "2d0a2c7d88c1436e938bb2f0149fe4c5",
            "1110ce78ca2c4a1d8b6a30640e7947e7",
            "3f1fbcd61e364b93b9e7c50bf1f08634",
            "fe805c1748b6454991cb5688ecceb203",
            "988de1e3affd41fd989b39d31da2d304",
            "70beb2d1dd744fe6b9531200aef11138",
            "bc99849575a5433fb2d8545442165ce7",
            "10001bf69bb24af6b4606073c40a4c18",
            "f3d37a88530743feb1750b93a22287e3",
            "f0315a2f17ac4f8595b94047b9d148e2",
            "b6499693640349fa81d1adef327b736d",
            "fde32e1a262d4bc49bb86aa6555fa46d",
            "a56c90b328944d5282cf75ee8aab7e00",
            "872946e77d3c4f5d90b30df3ca92013f",
            "082afbb7253b403a85f6eb89e552a391",
            "bb6eb60c01eb43e49c73761e4a81bf61",
            "e7d99d60fb0f48428cfbf19246f3a779",
            "ca4c7cb046f44110a052cc7bb03308ed",
            "4e8be0f2e0c945338f03ccb3b4172949",
            "1863bfb627b147f0a8796a1d8e0d5f3e",
            "85671d021f66470c979505585ea2847b",
            "861643feddae406688ba6949f7a0306f",
            "ea5a7c2f440b466984e128e791376bb7",
            "366c4b80318a4f98a0dacfc17628f02b",
            "f1e0f7c89f0e4e8cb061a41d120af260",
            "8ad7f112081e45cd97648f856a80d049",
            "5ef9f19554794e71a674856b47fc4799",
            "f11f931a63904dbb96f56863bded6006",
            "70c08a4f634d4053b31a5eacb38792b6",
            "12a44dcaa08941d785e399424d2ecd41",
            "ffafae5a49e14791a7a9f9fb55730965",
            "c853b03515e54537afb7dd77c33ae605",
            "d91e09a3d3e3415d8588df433730b656",
            "d08a8ddc9b7b42f6ba5d359a63c96b6c",
            "2211627280124bc7bf4873a29025fb8b",
            "02597ae035804e13b88a32a4a6c9a35a",
            "08591ee723654b97890dd19e1930823a",
            "e2022acf468449e8979b7712efdc3105",
            "1f766d4416ab4124a7aaaecf45a9e0c2",
            "a59cd26a418a4fb0965b82a57cd18c7a",
            "9a5a837797b14772a93951100375954b",
            "9df940518a0749c380f5eeab8bc87b29"
          ]
        },
        "id": "TiTLS714_BQp",
        "outputId": "72d87845-55a7-4943-f505-ffb06f756c4a"
      },
      "execution_count": 4,
      "outputs": [
        {
          "output_type": "stream",
          "name": "stderr",
          "text": [
            "/usr/local/lib/python3.10/dist-packages/huggingface_hub/utils/_auth.py:94: UserWarning: \n",
            "The secret `HF_TOKEN` does not exist in your Colab secrets.\n",
            "To authenticate with the Hugging Face Hub, create a token in your settings tab (https://huggingface.co/settings/tokens), set it as secret in your Google Colab and restart your session.\n",
            "You will be able to reuse this secret in all of your notebooks.\n",
            "Please note that authentication is recommended but still optional to access public models or datasets.\n",
            "  warnings.warn(\n"
          ]
        },
        {
          "output_type": "display_data",
          "data": {
            "text/plain": [
              "tokenizer_config.json:   0%|          | 0.00/48.0 [00:00<?, ?B/s]"
            ],
            "application/vnd.jupyter.widget-view+json": {
              "version_major": 2,
              "version_minor": 0,
              "model_id": "5b08899532b649b2850d95f0350ca321"
            }
          },
          "metadata": {}
        },
        {
          "output_type": "display_data",
          "data": {
            "text/plain": [
              "config.json:   0%|          | 0.00/483 [00:00<?, ?B/s]"
            ],
            "application/vnd.jupyter.widget-view+json": {
              "version_major": 2,
              "version_minor": 0,
              "model_id": "6690588aebd74984aa8e14975774fb2b"
            }
          },
          "metadata": {}
        },
        {
          "output_type": "display_data",
          "data": {
            "text/plain": [
              "vocab.txt:   0%|          | 0.00/232k [00:00<?, ?B/s]"
            ],
            "application/vnd.jupyter.widget-view+json": {
              "version_major": 2,
              "version_minor": 0,
              "model_id": "f0315a2f17ac4f8595b94047b9d148e2"
            }
          },
          "metadata": {}
        },
        {
          "output_type": "display_data",
          "data": {
            "text/plain": [
              "tokenizer.json:   0%|          | 0.00/466k [00:00<?, ?B/s]"
            ],
            "application/vnd.jupyter.widget-view+json": {
              "version_major": 2,
              "version_minor": 0,
              "model_id": "85671d021f66470c979505585ea2847b"
            }
          },
          "metadata": {}
        },
        {
          "output_type": "display_data",
          "data": {
            "text/plain": [
              "model.safetensors:   0%|          | 0.00/268M [00:00<?, ?B/s]"
            ],
            "application/vnd.jupyter.widget-view+json": {
              "version_major": 2,
              "version_minor": 0,
              "model_id": "c853b03515e54537afb7dd77c33ae605"
            }
          },
          "metadata": {}
        },
        {
          "output_type": "stream",
          "name": "stderr",
          "text": [
            "Some weights of the PyTorch model were not used when initializing the TF 2.0 model TFDistilBertModel: ['vocab_transform.weight', 'vocab_layer_norm.weight', 'vocab_transform.bias', 'vocab_projector.bias', 'vocab_layer_norm.bias']\n",
            "- This IS expected if you are initializing TFDistilBertModel from a PyTorch model trained on another task or with another architecture (e.g. initializing a TFBertForSequenceClassification model from a BertForPreTraining model).\n",
            "- This IS NOT expected if you are initializing TFDistilBertModel from a PyTorch model that you expect to be exactly identical (e.g. initializing a TFBertForSequenceClassification model from a BertForSequenceClassification model).\n",
            "All the weights of TFDistilBertModel were initialized from the PyTorch model.\n",
            "If your task is similar to the task the model of the checkpoint was trained on, you can already use TFDistilBertModel for predictions without further training.\n"
          ]
        }
      ]
    },
    {
      "cell_type": "code",
      "source": [
        "# Extract Candidate Embeddings\n",
        "def extract_embeddings(data, tokenizer, model):\n",
        "    paragraphs = []\n",
        "    for person in data:\n",
        "        for name, details in person.items():\n",
        "            skills = \", \".join(details['Skills'])\n",
        "            work_experience = \" \".join([\n",
        "                f\"{exp['Position']} at {exp['Company Name']} ({exp['Start Date']} - {exp['End Date']}): {' '.join(exp['Description'])}\"\n",
        "                for exp in details['Work Experience']\n",
        "            ])\n",
        "            certifications = \", \".join(details['Certification'])\n",
        "\n",
        "            paragraph = (\n",
        "                f\"{name} is a {details['Personal Info']['Degree']} with expertise in {skills}. \"\n",
        "                f\"Work experience includes {work_experience.strip()} \"\n",
        "                f\"and certifications such as {certifications}.\"\n",
        "            )\n",
        "            paragraphs.append(paragraph)\n",
        "\n",
        "    inputs = tokenizer(paragraphs, padding=True, truncation=True, return_tensors=\"tf\")\n",
        "    embeddings = tf.reduce_mean(model(inputs)[0], axis=1).numpy()\n",
        "    return paragraphs, embeddings\n"
      ],
      "metadata": {
        "id": "F6SSKOHN_CRD"
      },
      "execution_count": 5,
      "outputs": []
    },
    {
      "cell_type": "code",
      "source": [
        "paragraphs, candidate_embeddings = extract_embeddings(data, tokenizer, pretrained_model)"
      ],
      "metadata": {
        "id": "1B0LW79v_HCj"
      },
      "execution_count": 6,
      "outputs": []
    },
    {
      "cell_type": "code",
      "source": [
        "# Apply KMeans Clustering\n",
        "def apply_kmeans(embeddings, num_clusters):\n",
        "    kmeans = KMeans(n_clusters=num_clusters, random_state=42)\n",
        "    kmeans.fit(embeddings)\n",
        "    return kmeans"
      ],
      "metadata": {
        "id": "fxXUJ8Vb_Ica"
      },
      "execution_count": 7,
      "outputs": []
    },
    {
      "cell_type": "code",
      "source": [
        "num_clusters = 10  # Set the number of clusters based on job roles or domain knowledge\n",
        "kmeans = apply_kmeans(candidate_embeddings, num_clusters)"
      ],
      "metadata": {
        "id": "oDimJr1N_vt_"
      },
      "execution_count": 8,
      "outputs": []
    },
    {
      "cell_type": "code",
      "source": [
        "# Annotate Clusters with Job Roles\n",
        "def annotate_clusters(kmeans, paragraphs):\n",
        "    cluster_assignments = kmeans.labels_\n",
        "    clustered_paragraphs = {i: [] for i in range(kmeans.n_clusters)}\n",
        "    for idx, cluster in enumerate(cluster_assignments):\n",
        "        clustered_paragraphs[cluster].append(paragraphs[idx])\n",
        "    return clustered_paragraphs"
      ],
      "metadata": {
        "id": "6xXWStZ1_xjc"
      },
      "execution_count": 9,
      "outputs": []
    },
    {
      "cell_type": "code",
      "source": [
        "clustered_paragraphs = annotate_clusters(kmeans, paragraphs)"
      ],
      "metadata": {
        "id": "4lfaaGb5_z0x"
      },
      "execution_count": 10,
      "outputs": []
    },
    {
      "cell_type": "code",
      "source": [
        "# Prepare Data for Fine-Tuning\n",
        "def prepare_fine_tuning_data(data, tokenizer, kmeans):\n",
        "    examples = []\n",
        "    labels = []\n",
        "    for paragraph, label in zip(paragraphs, kmeans.labels_):\n",
        "        examples.append(paragraph)\n",
        "        labels.append(label)\n",
        "\n",
        "    tokenized = tokenizer(examples, padding=True, truncation=True, return_tensors=\"tf\")\n",
        "    labels_one_hot = tf.keras.utils.to_categorical(labels, num_classes=kmeans.n_clusters)\n",
        "\n",
        "    dataset = tf.data.Dataset.from_tensor_slices(\n",
        "        ({\n",
        "            \"input_ids\": tokenized[\"input_ids\"],\n",
        "            \"attention_mask\": tokenized[\"attention_mask\"]\n",
        "        }, labels_one_hot)\n",
        "    ).batch(8).prefetch(tf.data.AUTOTUNE)\n",
        "\n",
        "    return dataset"
      ],
      "metadata": {
        "id": "A9-Vjvkb_1DD"
      },
      "execution_count": 11,
      "outputs": []
    },
    {
      "cell_type": "code",
      "source": [
        "train_data, valid_data = train_test_split(data, test_size=0.2, random_state=42)\n",
        "train_dataset = prepare_fine_tuning_data(train_data, tokenizer, kmeans)\n",
        "valid_dataset = prepare_fine_tuning_data(valid_data, tokenizer, kmeans)"
      ],
      "metadata": {
        "id": "q0zCLCJ8_28Y"
      },
      "execution_count": 12,
      "outputs": []
    },
    {
      "cell_type": "code",
      "source": [
        "# Fine-Tune the Model\n",
        "def build_fine_tuning_model(base_model, num_classes, learning_rate=2e-3):\n",
        "    input_ids = tf.keras.Input(shape=(None,), dtype=tf.int32, name=\"input_ids\")\n",
        "    attention_mask = tf.keras.Input(shape=(None,), dtype=tf.int32, name=\"attention_mask\")\n",
        "\n",
        "    embeddings = base_model([input_ids, attention_mask])[0]\n",
        "    pooled_output = tf.reduce_mean(embeddings, axis=1)\n",
        "\n",
        "    dense1 = tf.keras.layers.Dense(256, activation=\"relu\")(pooled_output)\n",
        "    dropout1 = tf.keras.layers.Dropout(0.3)(dense1)\n",
        "    dense2 = tf.keras.layers.Dense(128, activation=\"relu\")(dropout1)\n",
        "    dropout2 = tf.keras.layers.Dropout(0.3)(dense2)\n",
        "\n",
        "    output = tf.keras.layers.Dense(num_classes, activation=\"softmax\")(pooled_output)\n",
        "\n",
        "    model = tf.keras.Model(inputs=[input_ids, attention_mask], outputs=output)\n",
        "    model.compile(\n",
        "        optimizer=tf.keras.optimizers.Adam(learning_rate=learning_rate),\n",
        "        loss=\"categorical_crossentropy\",\n",
        "        metrics=[\"accuracy\"]\n",
        "    )\n",
        "    return model"
      ],
      "metadata": {
        "id": "SDhFxCEi_4T4"
      },
      "execution_count": 16,
      "outputs": []
    },
    {
      "cell_type": "code",
      "source": [
        "num_classes = num_clusters\n",
        "fine_tuning_model = build_fine_tuning_model(pretrained_model, num_classes)"
      ],
      "metadata": {
        "id": "ujJGZSSo_58T"
      },
      "execution_count": 19,
      "outputs": []
    },
    {
      "cell_type": "code",
      "source": [
        "history = fine_tuning_model.fit(\n",
        "    train_dataset,\n",
        "    validation_data=valid_dataset,\n",
        "    epochs=4\n",
        ")"
      ],
      "metadata": {
        "colab": {
          "base_uri": "https://localhost:8080/"
        },
        "id": "BYv3tty-_7pZ",
        "outputId": "abf78e47-94d9-4b91-c71e-19044c93c8f3"
      },
      "execution_count": 21,
      "outputs": [
        {
          "output_type": "stream",
          "name": "stdout",
          "text": [
            "Epoch 1/4\n",
            "13/13 [==============================] - 351s 26s/step - loss: 0.6999 - accuracy: 0.7100 - val_loss: 0.5371 - val_accuracy: 0.7700\n",
            "Epoch 2/4\n",
            "13/13 [==============================] - 327s 26s/step - loss: 0.5686 - accuracy: 0.8100 - val_loss: 0.4140 - val_accuracy: 0.8200\n",
            "Epoch 3/4\n",
            "13/13 [==============================] - 332s 26s/step - loss: 0.4474 - accuracy: 0.8100 - val_loss: 0.3106 - val_accuracy: 0.8700\n",
            "Epoch 4/4\n",
            "13/13 [==============================] - 331s 26s/step - loss: 0.3481 - accuracy: 0.8700 - val_loss: 0.2610 - val_accuracy: 0.8900\n"
          ]
        }
      ]
    },
    {
      "cell_type": "code",
      "source": [
        "# Visualize Training and Validation Loss/Accuracy\n",
        "def plot_training_history(history):\n",
        "    plt.figure(figsize=(12, 5))\n",
        "\n",
        "    # Loss plot\n",
        "    plt.subplot(1, 2, 1)\n",
        "    plt.plot(history.history['loss'], label='Training Loss')\n",
        "    plt.plot(history.history['val_loss'], label='Validation Loss')\n",
        "    plt.xlabel('Epochs')\n",
        "    plt.ylabel('Loss')\n",
        "    plt.title('Loss Over Epochs')\n",
        "    plt.legend()\n",
        "\n",
        "    # Accuracy plot\n",
        "    plt.subplot(1, 2, 2)\n",
        "    plt.plot(history.history['accuracy'], label='Training Accuracy')\n",
        "    plt.plot(history.history['val_accuracy'], label='Validation Accuracy')\n",
        "    plt.xlabel('Epochs')\n",
        "    plt.ylabel('Accuracy')\n",
        "    plt.title('Accuracy Over Epochs')\n",
        "    plt.legend()\n",
        "\n",
        "    plt.tight_layout()\n",
        "    plt.show()\n",
        "\n",
        "# Call after training\n",
        "plot_training_history(history)"
      ],
      "metadata": {
        "colab": {
          "base_uri": "https://localhost:8080/",
          "height": 405
        },
        "id": "Zsvt-gaeABOo",
        "outputId": "2ed9e172-77a5-4fbc-c446-e5c00405e095"
      },
      "execution_count": 24,
      "outputs": [
        {
          "output_type": "display_data",
          "data": {
            "text/plain": [
              "<Figure size 1200x500 with 2 Axes>"
            ],
            "image/png": "[encoded data removed]"
          },
          "metadata": {}
        }
      ]
    },
    {
      "cell_type": "code",
      "source": [
        "# Generate Predictions and True Labels\n",
        "def plot_confusion_matrix(model, dataset, true_labels, num_classes):\n",
        "    predictions = model.predict(dataset)\n",
        "    predicted_labels = np.argmax(predictions, axis=1)\n",
        "    true_labels = np.argmax(true_labels, axis=1)  # Convert one-hot to categorical\n",
        "\n",
        "    # Confusion Matrix\n",
        "    cm = confusion_matrix(true_labels, predicted_labels, labels=range(num_classes))\n",
        "    disp = ConfusionMatrixDisplay(confusion_matrix=cm, display_labels=range(num_classes))\n",
        "    disp.plot(cmap='Blues', xticks_rotation='vertical')\n",
        "    plt.title('Confusion Matrix')\n",
        "    plt.show()\n"
      ],
      "metadata": {
        "id": "pFX_GeFxTnqF"
      },
      "execution_count": 29,
      "outputs": []
    },
    {
      "cell_type": "code",
      "source": [
        "# Get validation labels\n",
        "valid_labels = []\n",
        "for _, label in valid_dataset:\n",
        "    valid_labels.extend(label.numpy())\n",
        "\n",
        "valid_labels = np.array(valid_labels)\n",
        "\n",
        "# Call this after training\n",
        "num_classes = kmeans.n_clusters  # Ensure this matches the number of clusters\n",
        "plot_confusion_matrix(fine_tuning_model, valid_dataset, valid_labels, num_classes)"
      ],
      "metadata": {
        "colab": {
          "base_uri": "https://localhost:8080/",
          "height": 484
        },
        "id": "GPRyJVTfThf3",
        "outputId": "9556f840-1322-488e-c690-42fc446ae7be"
      },
      "execution_count": 60,
      "outputs": [
        {
          "output_type": "stream",
          "name": "stdout",
          "text": [
            "13/13 [==============================] - 100s 7s/step\n"
          ]
        },
        {
          "output_type": "display_data",
          "data": {
            "text/plain": [
              "<Figure size 640x480 with 2 Axes>"
            ],
            "image/png": "[encoded data removed]"
          },
          "metadata": {}
        }
      ]
    },
    {
      "cell_type": "code",
      "source": [
        "print(kmeans.n_clusters)"
      ],
      "metadata": {
        "colab": {
          "base_uri": "https://localhost:8080/"
        },
        "id": "rzliTDXYTwId",
        "outputId": "2c5907e4-c171-4b12-e184-d2fee2a5f5f0"
      },
      "execution_count": 32,
      "outputs": [
        {
          "output_type": "stream",
          "name": "stdout",
          "text": [
            "10\n"
          ]
        }
      ]
    },
    {
      "cell_type": "code",
      "source": [
        "cv_gilang = {\n",
        "        \"GILANG ADITYA\": {\n",
        "            \"Personal Info\": {\n",
        "                \"Phone Number\": \"+626491310049\",\n",
        "                \"Email\": \"gilangaditya@gmail.com\",\n",
        "                \"Github\": \"github.com/gilangaditya\",\n",
        "                \"LinkedIn\": \"https://www.linkedin.com/in/gilangaditya/\",\n",
        "                \"Degree\": \"Bachelor's in Information Technology\"\n",
        "            },\n",
        "            \"Skills\": [\n",
        "                \"UI/UX Design\",\n",
        "                \"JavaScript\",\n",
        "                \"HTML\",\n",
        "                \"Google Cloud\",\n",
        "                \"AWS\",\n",
        "                \"PostgreSQL\",\n",
        "                \"Machine Learning\",\n",
        "                \"MySQL\"\n",
        "            ],\n",
        "            \"Work Experience\": [\n",
        "                {\n",
        "                    \"Company Name\": \"DevPath\",\n",
        "                    \"Start Date\": \"Apr 2023\",\n",
        "                    \"End Date\": \"Mar 2024\",\n",
        "                    \"Position\": \"Product Manager\",\n",
        "                    \"Description\": [\n",
        "                        \"I utilized various technologies and methodologies, further enhancing my expertise in software development.\",\n",
        "                        \"Throughout my tenure, I took the initiative in leading team retrospectives.\",\n",
        "                        \"I played a key role in enhancing user experience which contributed to our project successes.\"\n",
        "                    ]\n",
        "                },\n",
        "                {\n",
        "                    \"Company Name\": \"CodeSpace\",\n",
        "                    \"Start Date\": \"May 2016\",\n",
        "                    \"End Date\": \"Oct 2016\",\n",
        "                    \"Position\": \"Frontend Developer\",\n",
        "                    \"Description\": [\n",
        "                        \"My experience included mentoring junior team members and fostering a collaborative work environment.\",\n",
        "                        \"I played a key role in optimizing our workflows which contributed to our project successes.\"\n",
        "                    ]\n",
        "                },\n",
        "                {\n",
        "                    \"Company Name\": \"TechNation\",\n",
        "                    \"Start Date\": \"Aug 2017\",\n",
        "                    \"End Date\": \"Jul 2022\",\n",
        "                    \"Position\": \"Frontend Developer\",\n",
        "                    \"Description\": [\n",
        "                        \"Throughout my tenure, I took the initiative in collaborating with stakeholders.\",\n",
        "                        \"I was responsible for leading initiatives that improved our development processes.\",\n",
        "                        \"My experience included mentoring junior team members and fostering a collaborative work environment.\",\n",
        "                        \"I utilized various technologies and methodologies, further enhancing my expertise in data analysis.\",\n",
        "                        \"I played a key role in optimizing our workflows which contributed to our project successes.\",\n",
        "                        \"At this role, I leveraged my skills in team collaboration to deliver excellent results.\"\n",
        "                    ]\n",
        "                }\n",
        "            ],\n",
        "            \"Certification\": []\n",
        "        }\n",
        "    }"
      ],
      "metadata": {
        "id": "cg6L_jfyWrYf"
      },
      "execution_count": 36,
      "outputs": []
    },
    {
      "cell_type": "code",
      "source": [
        "# Extract Embeddings for a Single Input\n",
        "def extract_single_embedding(person, tokenizer, model):\n",
        "    # Extract details from the input dictionary\n",
        "    name = list(person.keys())[0]\n",
        "    details = person[name]\n",
        "\n",
        "    # Generate text description\n",
        "    skills = \", \".join(details['Skills'])\n",
        "    work_experience = \" \".join([\n",
        "        f\"{exp['Position']} at {exp['Company Name']} ({exp['Start Date']} - {exp['End Date']}): {' '.join(exp['Description'])}\"\n",
        "        for exp in details['Work Experience']\n",
        "    ])\n",
        "    certifications = \", \".join(details['Certification'])\n",
        "\n",
        "    paragraph = (\n",
        "        f\"{name} is a {details['Personal Info']['Degree']} with expertise in {skills}. \"\n",
        "        f\"Work experience includes {work_experience.strip()} \"\n",
        "        f\"and certifications such as {certifications}.\"\n",
        "    )\n",
        "\n",
        "    # Tokenize and get embeddings\n",
        "    inputs = tokenizer(paragraph, padding=True, truncation=True, return_tensors=\"tf\")\n",
        "    embedding = tf.reduce_mean(model(inputs)[0], axis=1).numpy()\n",
        "\n",
        "    return paragraph, embedding"
      ],
      "metadata": {
        "id": "GlS6hW-sWvHn"
      },
      "execution_count": 39,
      "outputs": []
    },
    {
      "cell_type": "code",
      "source": [
        "# Get embedding for the single input\n",
        "paragraph, embedding = extract_single_embedding(cv_gilang, tokenizer, pretrained_model)"
      ],
      "metadata": {
        "id": "RuicqeVwXUIy"
      },
      "execution_count": 41,
      "outputs": []
    },
    {
      "cell_type": "code",
      "source": [
        "# Extract Embedding and Predict for a Single JSON Input\n",
        "def predict_from_json(input_json, tokenizer, model, kmeans_labels):\n",
        "    # Extract person details from the JSON\n",
        "    name = list(input_json.keys())[0]\n",
        "    details = input_json[name]\n",
        "\n",
        "    # Generate text description\n",
        "    skills = \", \".join(details['Skills'])\n",
        "    work_experience = \" \".join([\n",
        "        f\"{exp['Position']} at {exp['Company Name']} ({exp['Start Date']} - {exp['End Date']}): {' '.join(exp['Description'])}\"\n",
        "        for exp in details['Work Experience']\n",
        "    ])\n",
        "    certifications = \", \".join(details['Certification']) if details['Certification'] else \"none\"\n",
        "\n",
        "    paragraph = (\n",
        "        f\"{name} is a {details['Personal Info']['Degree']} with expertise in {skills}. \"\n",
        "        f\"Work experience includes {work_experience.strip()} \"\n",
        "        f\"and certifications such as {certifications}.\"\n",
        "    )\n",
        "\n",
        "    # Tokenize and get embedding\n",
        "    inputs = tokenizer(paragraph, padding=True, truncation=True, return_tensors=\"tf\")\n",
        "    predictions = model(inputs)\n",
        "    predicted_class = tf.argmax(predictions, axis=1).numpy()[0]\n",
        "\n",
        "    # Map index to label\n",
        "    predicted_label = kmeans_labels[predicted_class]\n",
        "\n",
        "    # Return processed text and predictions\n",
        "    return paragraph, predicted_label"
      ],
      "metadata": {
        "id": "T8xWoTLsXdoq"
      },
      "execution_count": 47,
      "outputs": []
    },
    {
      "cell_type": "code",
      "source": [
        "kmeans_labels = [\n",
        "    \"Frontend Developer\",\n",
        "    \"Backend Developer\",\n",
        "    \"Data Scientist\",\n",
        "    \"Product Manager\",\n",
        "    \"UI/UX Designer\",\n",
        "    \"Cloud Engineer\",\n",
        "    \"Machine Learning Engineer\",\n",
        "    \"Database Administrator\",\n",
        "    \"Full Stack Developer\",\n",
        "    \"Software Engineer\"\n",
        "]"
      ],
      "metadata": {
        "id": "Y7pmctJNbEai"
      },
      "execution_count": 48,
      "outputs": []
    },
    {
      "cell_type": "code",
      "source": [
        "# Generate predictions\n",
        "paragraph, predictions = predict_from_json(cv_gilang, tokenizer, fine_tuning_model, kmeans_labels)"
      ],
      "metadata": {
        "id": "UtSMkBB9WVEO"
      },
      "execution_count": 49,
      "outputs": []
    },
    {
      "cell_type": "code",
      "source": [
        "# Display results\n",
        "print(\"Generated Text Description:\")\n",
        "print(paragraph)\n",
        "print(\"\\nModel Predictions:\")\n",
        "print(predictions)"
      ],
      "metadata": {
        "colab": {
          "base_uri": "https://localhost:8080/"
        },
        "id": "iMAYz7UlYuzb",
        "outputId": "4a3649c0-f718-4bef-e327-50679c87cb3c"
      },
      "execution_count": 50,
      "outputs": [
        {
          "output_type": "stream",
          "name": "stdout",
          "text": [
            "Generated Text Description:\n",
            "GILANG ADITYA is a Bachelor's in Information Technology with expertise in UI/UX Design, JavaScript, HTML, Google Cloud, AWS, PostgreSQL, Machine Learning, MySQL. Work experience includes Product Manager at DevPath (Apr 2023 - Mar 2024): I utilized various technologies and methodologies, further enhancing my expertise in software development. Throughout my tenure, I took the initiative in leading team retrospectives. I played a key role in enhancing user experience which contributed to our project successes. Frontend Developer at CodeSpace (May 2016 - Oct 2016): My experience included mentoring junior team members and fostering a collaborative work environment. I played a key role in optimizing our workflows which contributed to our project successes. Frontend Developer at TechNation (Aug 2017 - Jul 2022): Throughout my tenure, I took the initiative in collaborating with stakeholders. I was responsible for leading initiatives that improved our development processes. My experience included mentoring junior team members and fostering a collaborative work environment. I utilized various technologies and methodologies, further enhancing my expertise in data analysis. I played a key role in optimizing our workflows which contributed to our project successes. At this role, I leveraged my skills in team collaboration to deliver excellent results. and certifications such as none.\n",
            "\n",
            "Model Predictions:\n",
            "Machine Learning Engineer\n"
          ]
        }
      ]
    },
    {
      "cell_type": "code",
      "source": [
        "fine_tuning_model.save('text_similarity.h5')\n",
        "print('Model saved as my_model.h5!')"
      ],
      "metadata": {
        "colab": {
          "base_uri": "https://localhost:8080/"
        },
        "id": "_h0AKZWsaXz5",
        "outputId": "536a52ba-2692-400d-d249-111ce1466948"
      },
      "execution_count": 62,
      "outputs": [
        {
          "output_type": "stream",
          "name": "stderr",
          "text": [
            "/usr/local/lib/python3.10/dist-packages/tf_keras/src/engine/training.py:3098: UserWarning: You are saving your model as an HDF5 file via `model.save()`. This file format is considered legacy. We recommend using instead the native TF-Keras format, e.g. `model.save('my_model.keras')`.\n",
            "  saving_api.save_model(\n"
          ]
        },
        {
          "output_type": "stream",
          "name": "stdout",
          "text": [
            "Model saved as my_model.h5!\n"
          ]
        }
      ]
    },
    {
      "cell_type": "code",
      "source": [],
      "metadata": {
        "id": "8pcDE8TBfEu2"
      },
      "execution_count": null,
      "outputs": []
    }
  ]
}