{
  "nbformat": 4,
  "nbformat_minor": 0,
  "metadata": {
    "colab": {
      "provenance": [],
      "gpuType": "T4"
    },
    "kernelspec": {
      "name": "python3",
      "display_name": "Python 3"
    },
    "language_info": {
      "name": "python"
    },
    "widgets": {
      "application/vnd.jupyter.widget-state+json": {
        "ed8c675b53e44e4a9e90a07ff82cdec1": {
          "model_module": "@jupyter-widgets/controls",
          "model_name": "HBoxModel",
          "model_module_version": "1.5.0",
          "state": {
            "_dom_classes": [],
            "_model_module": "@jupyter-widgets/controls",
            "_model_module_version": "1.5.0",
            "_model_name": "HBoxModel",
            "_view_count": null,
            "_view_module": "@jupyter-widgets/controls",
            "_view_module_version": "1.5.0",
            "_view_name": "HBoxView",
            "box_style": "",
            "children": [
              "IPY_MODEL_9a73211703c743d9b9caa81decc0406a",
              "IPY_MODEL_5ff612efaeb04c34aa54b615eb3f9a53",
              "IPY_MODEL_17f07cb6a2474f13827335dc8a29b801"
            ],
            "layout": "IPY_MODEL_e439b50d52414088a3f95d197267cb0b"
          }
        },
        "9a73211703c743d9b9caa81decc0406a": {
          "model_module": "@jupyter-widgets/controls",
          "model_name": "HTMLModel",
          "model_module_version": "1.5.0",
          "state": {
            "_dom_classes": [],
            "_model_module": "@jupyter-widgets/controls",
            "_model_module_version": "1.5.0",
            "_model_name": "HTMLModel",
            "_view_count": null,
            "_view_module": "@jupyter-widgets/controls",
            "_view_module_version": "1.5.0",
            "_view_name": "HTMLView",
            "description": "",
            "description_tooltip": null,
            "layout": "IPY_MODEL_d14aacd27c2f4ad882bcf8c1907b8561",
            "placeholder": "​",
            "style": "IPY_MODEL_6d190c1c099f458892328e56304d5eb8",
            "value": "tokenizer_config.json: 100%"
          }
        },
        "5ff612efaeb04c34aa54b615eb3f9a53": {
          "model_module": "@jupyter-widgets/controls",
          "model_name": "FloatProgressModel",
          "model_module_version": "1.5.0",
          "state": {
            "_dom_classes": [],
            "_model_module": "@jupyter-widgets/controls",
            "_model_module_version": "1.5.0",
            "_model_name": "FloatProgressModel",
            "_view_count": null,
            "_view_module": "@jupyter-widgets/controls",
            "_view_module_version": "1.5.0",
            "_view_name": "ProgressView",
            "bar_style": "success",
            "description": "",
            "description_tooltip": null,
            "layout": "IPY_MODEL_291c008bbf9c4419a9eab597ee622084",
            "max": 48,
            "min": 0,
            "orientation": "horizontal",
            "style": "IPY_MODEL_fb760be1dbb54981b4b9efba761b131d",
            "value": 48
          }
        },
        "17f07cb6a2474f13827335dc8a29b801": {
          "model_module": "@jupyter-widgets/controls",
          "model_name": "HTMLModel",
          "model_module_version": "1.5.0",
          "state": {
            "_dom_classes": [],
            "_model_module": "@jupyter-widgets/controls",
            "_model_module_version": "1.5.0",
            "_model_name": "HTMLModel",
            "_view_count": null,
            "_view_module": "@jupyter-widgets/controls",
            "_view_module_version": "1.5.0",
            "_view_name": "HTMLView",
            "description": "",
            "description_tooltip": null,
            "layout": "IPY_MODEL_752b98427cb244a3b1eb429d6f037328",
            "placeholder": "​",
            "style": "IPY_MODEL_7c0790372f0a4a1cbc7f2ffdbf937f27",
            "value": " 48.0/48.0 [00:00&lt;00:00, 1.61kB/s]"
          }
        },
        "e439b50d52414088a3f95d197267cb0b": {
          "model_module": "@jupyter-widgets/base",
          "model_name": "LayoutModel",
          "model_module_version": "1.2.0",
          "state": {
            "_model_module": "@jupyter-widgets/base",
            "_model_module_version": "1.2.0",
            "_model_name": "LayoutModel",
            "_view_count": null,
            "_view_module": "@jupyter-widgets/base",
            "_view_module_version": "1.2.0",
            "_view_name": "LayoutView",
            "align_content": null,
            "align_items": null,
            "align_self": null,
            "border": null,
            "bottom": null,
            "display": null,
            "flex": null,
            "flex_flow": null,
            "grid_area": null,
            "grid_auto_columns": null,
            "grid_auto_flow": null,
            "grid_auto_rows": null,
            "grid_column": null,
            "grid_gap": null,
            "grid_row": null,
            "grid_template_areas": null,
            "grid_template_columns": null,
            "grid_template_rows": null,
            "height": null,
            "justify_content": null,
            "justify_items": null,
            "left": null,
            "margin": null,
            "max_height": null,
            "max_width": null,
            "min_height": null,
            "min_width": null,
            "object_fit": null,
            "object_position": null,
            "order": null,
            "overflow": null,
            "overflow_x": null,
            "overflow_y": null,
            "padding": null,
            "right": null,
            "top": null,
            "visibility": null,
            "width": null
          }
        },
        "d14aacd27c2f4ad882bcf8c1907b8561": {
          "model_module": "@jupyter-widgets/base",
          "model_name": "LayoutModel",
          "model_module_version": "1.2.0",
          "state": {
            "_model_module": "@jupyter-widgets/base",
            "_model_module_version": "1.2.0",
            "_model_name": "LayoutModel",
            "_view_count": null,
            "_view_module": "@jupyter-widgets/base",
            "_view_module_version": "1.2.0",
            "_view_name": "LayoutView",
            "align_content": null,
            "align_items": null,
            "align_self": null,
            "border": null,
            "bottom": null,
            "display": null,
            "flex": null,
            "flex_flow": null,
            "grid_area": null,
            "grid_auto_columns": null,
            "grid_auto_flow": null,
            "grid_auto_rows": null,
            "grid_column": null,
            "grid_gap": null,
            "grid_row": null,
            "grid_template_areas": null,
            "grid_template_columns": null,
            "grid_template_rows": null,
            "height": null,
            "justify_content": null,
            "justify_items": null,
            "left": null,
            "margin": null,
            "max_height": null,
            "max_width": null,
            "min_height": null,
            "min_width": null,
            "object_fit": null,
            "object_position": null,
            "order": null,
            "overflow": null,
            "overflow_x": null,
            "overflow_y": null,
            "padding": null,
            "right": null,
            "top": null,
            "visibility": null,
            "width": null
          }
        },
        "6d190c1c099f458892328e56304d5eb8": {
          "model_module": "@jupyter-widgets/controls",
          "model_name": "DescriptionStyleModel",
          "model_module_version": "1.5.0",
          "state": {
            "_model_module": "@jupyter-widgets/controls",
            "_model_module_version": "1.5.0",
            "_model_name": "DescriptionStyleModel",
            "_view_count": null,
            "_view_module": "@jupyter-widgets/base",
            "_view_module_version": "1.2.0",
            "_view_name": "StyleView",
            "description_width": ""
          }
        },
        "291c008bbf9c4419a9eab597ee622084": {
          "model_module": "@jupyter-widgets/base",
          "model_name": "LayoutModel",
          "model_module_version": "1.2.0",
          "state": {
            "_model_module": "@jupyter-widgets/base",
            "_model_module_version": "1.2.0",
            "_model_name": "LayoutModel",
            "_view_count": null,
            "_view_module": "@jupyter-widgets/base",
            "_view_module_version": "1.2.0",
            "_view_name": "LayoutView",
            "align_content": null,
            "align_items": null,
            "align_self": null,
            "border": null,
            "bottom": null,
            "display": null,
            "flex": null,
            "flex_flow": null,
            "grid_area": null,
            "grid_auto_columns": null,
            "grid_auto_flow": null,
            "grid_auto_rows": null,
            "grid_column": null,
            "grid_gap": null,
            "grid_row": null,
            "grid_template_areas": null,
            "grid_template_columns": null,
            "grid_template_rows": null,
            "height": null,
            "justify_content": null,
            "justify_items": null,
            "left": null,
            "margin": null,
            "max_height": null,
            "max_width": null,
            "min_height": null,
            "min_width": null,
            "object_fit": null,
            "object_position": null,
            "order": null,
            "overflow": null,
            "overflow_x": null,
            "overflow_y": null,
            "padding": null,
            "right": null,
            "top": null,
            "visibility": null,
            "width": null
          }
        },
        "fb760be1dbb54981b4b9efba761b131d": {
          "model_module": "@jupyter-widgets/controls",
          "model_name": "ProgressStyleModel",
          "model_module_version": "1.5.0",
          "state": {
            "_model_module": "@jupyter-widgets/controls",
            "_model_module_version": "1.5.0",
            "_model_name": "ProgressStyleModel",
            "_view_count": null,
            "_view_module": "@jupyter-widgets/base",
            "_view_module_version": "1.2.0",
            "_view_name": "StyleView",
            "bar_color": null,
            "description_width": ""
          }
        },
        "752b98427cb244a3b1eb429d6f037328": {
          "model_module": "@jupyter-widgets/base",
          "model_name": "LayoutModel",
          "model_module_version": "1.2.0",
          "state": {
            "_model_module": "@jupyter-widgets/base",
            "_model_module_version": "1.2.0",
            "_model_name": "LayoutModel",
            "_view_count": null,
            "_view_module": "@jupyter-widgets/base",
            "_view_module_version": "1.2.0",
            "_view_name": "LayoutView",
            "align_content": null,
            "align_items": null,
            "align_self": null,
            "border": null,
            "bottom": null,
            "display": null,
            "flex": null,
            "flex_flow": null,
            "grid_area": null,
            "grid_auto_columns": null,
            "grid_auto_flow": null,
            "grid_auto_rows": null,
            "grid_column": null,
            "grid_gap": null,
            "grid_row": null,
            "grid_template_areas": null,
            "grid_template_columns": null,
            "grid_template_rows": null,
            "height": null,
            "justify_content": null,
            "justify_items": null,
            "left": null,
            "margin": null,
            "max_height": null,
            "max_width": null,
            "min_height": null,
            "min_width": null,
            "object_fit": null,
            "object_position": null,
            "order": null,
            "overflow": null,
            "overflow_x": null,
            "overflow_y": null,
            "padding": null,
            "right": null,
            "top": null,
            "visibility": null,
            "width": null
          }
        },
        "7c0790372f0a4a1cbc7f2ffdbf937f27": {
          "model_module": "@jupyter-widgets/controls",
          "model_name": "DescriptionStyleModel",
          "model_module_version": "1.5.0",
          "state": {
            "_model_module": "@jupyter-widgets/controls",
            "_model_module_version": "1.5.0",
            "_model_name": "DescriptionStyleModel",
            "_view_count": null,
            "_view_module": "@jupyter-widgets/base",
            "_view_module_version": "1.2.0",
            "_view_name": "StyleView",
            "description_width": ""
          }
        },
        "96e7966148f34cce866f2ec087208e55": {
          "model_module": "@jupyter-widgets/controls",
          "model_name": "HBoxModel",
          "model_module_version": "1.5.0",
          "state": {
            "_dom_classes": [],
            "_model_module": "@jupyter-widgets/controls",
            "_model_module_version": "1.5.0",
            "_model_name": "HBoxModel",
            "_view_count": null,
            "_view_module": "@jupyter-widgets/controls",
            "_view_module_version": "1.5.0",
            "_view_name": "HBoxView",
            "box_style": "",
            "children": [
              "IPY_MODEL_5c114bb28a394408abf9d89dd3cd6b28",
              "IPY_MODEL_f41821c1314842ee89b1f6a1b7fd3d70",
              "IPY_MODEL_0d4368c365ee477ba9523b26df6f2568"
            ],
            "layout": "IPY_MODEL_8fb37b3949d84b3ba9f381f5b2c0aff5"
          }
        },
        "5c114bb28a394408abf9d89dd3cd6b28": {
          "model_module": "@jupyter-widgets/controls",
          "model_name": "HTMLModel",
          "model_module_version": "1.5.0",
          "state": {
            "_dom_classes": [],
            "_model_module": "@jupyter-widgets/controls",
            "_model_module_version": "1.5.0",
            "_model_name": "HTMLModel",
            "_view_count": null,
            "_view_module": "@jupyter-widgets/controls",
            "_view_module_version": "1.5.0",
            "_view_name": "HTMLView",
            "description": "",
            "description_tooltip": null,
            "layout": "IPY_MODEL_4dce7ca6bef24664bf2f496b512db1bf",
            "placeholder": "​",
            "style": "IPY_MODEL_10c1001e1f394539b80026f197b8cccf",
            "value": "vocab.txt: 100%"
          }
        },
        "f41821c1314842ee89b1f6a1b7fd3d70": {
          "model_module": "@jupyter-widgets/controls",
          "model_name": "FloatProgressModel",
          "model_module_version": "1.5.0",
          "state": {
            "_dom_classes": [],
            "_model_module": "@jupyter-widgets/controls",
            "_model_module_version": "1.5.0",
            "_model_name": "FloatProgressModel",
            "_view_count": null,
            "_view_module": "@jupyter-widgets/controls",
            "_view_module_version": "1.5.0",
            "_view_name": "ProgressView",
            "bar_style": "success",
            "description": "",
            "description_tooltip": null,
            "layout": "IPY_MODEL_1183d22676324f08bc01526a3f22cdde",
            "max": 231508,
            "min": 0,
            "orientation": "horizontal",
            "style": "IPY_MODEL_39a3a60483bc446fbb644fcf736609a5",
            "value": 231508
          }
        },
        "0d4368c365ee477ba9523b26df6f2568": {
          "model_module": "@jupyter-widgets/controls",
          "model_name": "HTMLModel",
          "model_module_version": "1.5.0",
          "state": {
            "_dom_classes": [],
            "_model_module": "@jupyter-widgets/controls",
            "_model_module_version": "1.5.0",
            "_model_name": "HTMLModel",
            "_view_count": null,
            "_view_module": "@jupyter-widgets/controls",
            "_view_module_version": "1.5.0",
            "_view_name": "HTMLView",
            "description": "",
            "description_tooltip": null,
            "layout": "IPY_MODEL_b302b6a401f04d258d5d10ebc5abee6f",
            "placeholder": "​",
            "style": "IPY_MODEL_4495e07ea4d943e0bba342b496bdf418",
            "value": " 232k/232k [00:00&lt;00:00, 1.86MB/s]"
          }
        },
        "8fb37b3949d84b3ba9f381f5b2c0aff5": {
          "model_module": "@jupyter-widgets/base",
          "model_name": "LayoutModel",
          "model_module_version": "1.2.0",
          "state": {
            "_model_module": "@jupyter-widgets/base",
            "_model_module_version": "1.2.0",
            "_model_name": "LayoutModel",
            "_view_count": null,
            "_view_module": "@jupyter-widgets/base",
            "_view_module_version": "1.2.0",
            "_view_name": "LayoutView",
            "align_content": null,
            "align_items": null,
            "align_self": null,
            "border": null,
            "bottom": null,
            "display": null,
            "flex": null,
            "flex_flow": null,
            "grid_area": null,
            "grid_auto_columns": null,
            "grid_auto_flow": null,
            "grid_auto_rows": null,
            "grid_column": null,
            "grid_gap": null,
            "grid_row": null,
            "grid_template_areas": null,
            "grid_template_columns": null,
            "grid_template_rows": null,
            "height": null,
            "justify_content": null,
            "justify_items": null,
            "left": null,
            "margin": null,
            "max_height": null,
            "max_width": null,
            "min_height": null,
            "min_width": null,
            "object_fit": null,
            "object_position": null,
            "order": null,
            "overflow": null,
            "overflow_x": null,
            "overflow_y": null,
            "padding": null,
            "right": null,
            "top": null,
            "visibility": null,
            "width": null
          }
        },
        "4dce7ca6bef24664bf2f496b512db1bf": {
          "model_module": "@jupyter-widgets/base",
          "model_name": "LayoutModel",
          "model_module_version": "1.2.0",
          "state": {
            "_model_module": "@jupyter-widgets/base",
            "_model_module_version": "1.2.0",
            "_model_name": "LayoutModel",
            "_view_count": null,
            "_view_module": "@jupyter-widgets/base",
            "_view_module_version": "1.2.0",
            "_view_name": "LayoutView",
            "align_content": null,
            "align_items": null,
            "align_self": null,
            "border": null,
            "bottom": null,
            "display": null,
            "flex": null,
            "flex_flow": null,
            "grid_area": null,
            "grid_auto_columns": null,
            "grid_auto_flow": null,
            "grid_auto_rows": null,
            "grid_column": null,
            "grid_gap": null,
            "grid_row": null,
            "grid_template_areas": null,
            "grid_template_columns": null,
            "grid_template_rows": null,
            "height": null,
            "justify_content": null,
            "justify_items": null,
            "left": null,
            "margin": null,
            "max_height": null,
            "max_width": null,
            "min_height": null,
            "min_width": null,
            "object_fit": null,
            "object_position": null,
            "order": null,
            "overflow": null,
            "overflow_x": null,
            "overflow_y": null,
            "padding": null,
            "right": null,
            "top": null,
            "visibility": null,
            "width": null
          }
        },
        "10c1001e1f394539b80026f197b8cccf": {
          "model_module": "@jupyter-widgets/controls",
          "model_name": "DescriptionStyleModel",
          "model_module_version": "1.5.0",
          "state": {
            "_model_module": "@jupyter-widgets/controls",
            "_model_module_version": "1.5.0",
            "_model_name": "DescriptionStyleModel",
            "_view_count": null,
            "_view_module": "@jupyter-widgets/base",
            "_view_module_version": "1.2.0",
            "_view_name": "StyleView",
            "description_width": ""
          }
        },
        "1183d22676324f08bc01526a3f22cdde": {
          "model_module": "@jupyter-widgets/base",
          "model_name": "LayoutModel",
          "model_module_version": "1.2.0",
          "state": {
            "_model_module": "@jupyter-widgets/base",
            "_model_module_version": "1.2.0",
            "_model_name": "LayoutModel",
            "_view_count": null,
            "_view_module": "@jupyter-widgets/base",
            "_view_module_version": "1.2.0",
            "_view_name": "LayoutView",
            "align_content": null,
            "align_items": null,
            "align_self": null,
            "border": null,
            "bottom": null,
            "display": null,
            "flex": null,
            "flex_flow": null,
            "grid_area": null,
            "grid_auto_columns": null,
            "grid_auto_flow": null,
            "grid_auto_rows": null,
            "grid_column": null,
            "grid_gap": null,
            "grid_row": null,
            "grid_template_areas": null,
            "grid_template_columns": null,
            "grid_template_rows": null,
            "height": null,
            "justify_content": null,
            "justify_items": null,
            "left": null,
            "margin": null,
            "max_height": null,
            "max_width": null,
            "min_height": null,
            "min_width": null,
            "object_fit": null,
            "object_position": null,
            "order": null,
            "overflow": null,
            "overflow_x": null,
            "overflow_y": null,
            "padding": null,
            "right": null,
            "top": null,
            "visibility": null,
            "width": null
          }
        },
        "39a3a60483bc446fbb644fcf736609a5": {
          "model_module": "@jupyter-widgets/controls",
          "model_name": "ProgressStyleModel",
          "model_module_version": "1.5.0",
          "state": {
            "_model_module": "@jupyter-widgets/controls",
            "_model_module_version": "1.5.0",
            "_model_name": "ProgressStyleModel",
            "_view_count": null,
            "_view_module": "@jupyter-widgets/base",
            "_view_module_version": "1.2.0",
            "_view_name": "StyleView",
            "bar_color": null,
            "description_width": ""
          }
        },
        "b302b6a401f04d258d5d10ebc5abee6f": {
          "model_module": "@jupyter-widgets/base",
          "model_name": "LayoutModel",
          "model_module_version": "1.2.0",
          "state": {
            "_model_module": "@jupyter-widgets/base",
            "_model_module_version": "1.2.0",
            "_model_name": "LayoutModel",
            "_view_count": null,
            "_view_module": "@jupyter-widgets/base",
            "_view_module_version": "1.2.0",
            "_view_name": "LayoutView",
            "align_content": null,
            "align_items": null,
            "align_self": null,
            "border": null,
            "bottom": null,
            "display": null,
            "flex": null,
            "flex_flow": null,
            "grid_area": null,
            "grid_auto_columns": null,
            "grid_auto_flow": null,
            "grid_auto_rows": null,
            "grid_column": null,
            "grid_gap": null,
            "grid_row": null,
            "grid_template_areas": null,
            "grid_template_columns": null,
            "grid_template_rows": null,
            "height": null,
            "justify_content": null,
            "justify_items": null,
            "left": null,
            "margin": null,
            "max_height": null,
            "max_width": null,
            "min_height": null,
            "min_width": null,
            "object_fit": null,
            "object_position": null,
            "order": null,
            "overflow": null,
            "overflow_x": null,
            "overflow_y": null,
            "padding": null,
            "right": null,
            "top": null,
            "visibility": null,
            "width": null
          }
        },
        "4495e07ea4d943e0bba342b496bdf418": {
          "model_module": "@jupyter-widgets/controls",
          "model_name": "DescriptionStyleModel",
          "model_module_version": "1.5.0",
          "state": {
            "_model_module": "@jupyter-widgets/controls",
            "_model_module_version": "1.5.0",
            "_model_name": "DescriptionStyleModel",
            "_view_count": null,
            "_view_module": "@jupyter-widgets/base",
            "_view_module_version": "1.2.0",
            "_view_name": "StyleView",
            "description_width": ""
          }
        },
        "05d893b5cccc4731af773fce617ff737": {
          "model_module": "@jupyter-widgets/controls",
          "model_name": "HBoxModel",
          "model_module_version": "1.5.0",
          "state": {
            "_dom_classes": [],
            "_model_module": "@jupyter-widgets/controls",
            "_model_module_version": "1.5.0",
            "_model_name": "HBoxModel",
            "_view_count": null,
            "_view_module": "@jupyter-widgets/controls",
            "_view_module_version": "1.5.0",
            "_view_name": "HBoxView",
            "box_style": "",
            "children": [
              "IPY_MODEL_fded446ff04f4a3b83f98df7c19805a4",
              "IPY_MODEL_1bb9c621f6cf4979b0749654fbb2c151",
              "IPY_MODEL_0b2911c02fce43d985cc5b7e92116e46"
            ],
            "layout": "IPY_MODEL_9ffd9373b3c142b1812242239a700de6"
          }
        },
        "fded446ff04f4a3b83f98df7c19805a4": {
          "model_module": "@jupyter-widgets/controls",
          "model_name": "HTMLModel",
          "model_module_version": "1.5.0",
          "state": {
            "_dom_classes": [],
            "_model_module": "@jupyter-widgets/controls",
            "_model_module_version": "1.5.0",
            "_model_name": "HTMLModel",
            "_view_count": null,
            "_view_module": "@jupyter-widgets/controls",
            "_view_module_version": "1.5.0",
            "_view_name": "HTMLView",
            "description": "",
            "description_tooltip": null,
            "layout": "IPY_MODEL_73c972709e8d41e9a1667c90d3ae9a96",
            "placeholder": "​",
            "style": "IPY_MODEL_5695f2983afc434ebaf772cd25437403",
            "value": "tokenizer.json: 100%"
          }
        },
        "1bb9c621f6cf4979b0749654fbb2c151": {
          "model_module": "@jupyter-widgets/controls",
          "model_name": "FloatProgressModel",
          "model_module_version": "1.5.0",
          "state": {
            "_dom_classes": [],
            "_model_module": "@jupyter-widgets/controls",
            "_model_module_version": "1.5.0",
            "_model_name": "FloatProgressModel",
            "_view_count": null,
            "_view_module": "@jupyter-widgets/controls",
            "_view_module_version": "1.5.0",
            "_view_name": "ProgressView",
            "bar_style": "success",
            "description": "",
            "description_tooltip": null,
            "layout": "IPY_MODEL_70465e6d93ed4204bfa7fd8b1a696955",
            "max": 466062,
            "min": 0,
            "orientation": "horizontal",
            "style": "IPY_MODEL_2805b15382574cee8a1518bd73deea6e",
            "value": 466062
          }
        },
        "0b2911c02fce43d985cc5b7e92116e46": {
          "model_module": "@jupyter-widgets/controls",
          "model_name": "HTMLModel",
          "model_module_version": "1.5.0",
          "state": {
            "_dom_classes": [],
            "_model_module": "@jupyter-widgets/controls",
            "_model_module_version": "1.5.0",
            "_model_name": "HTMLModel",
            "_view_count": null,
            "_view_module": "@jupyter-widgets/controls",
            "_view_module_version": "1.5.0",
            "_view_name": "HTMLView",
            "description": "",
            "description_tooltip": null,
            "layout": "IPY_MODEL_a026c3bcf4aa44fe8adfe648911c6e63",
            "placeholder": "​",
            "style": "IPY_MODEL_348fb665b5164ddca4d2a23f03b42cc2",
            "value": " 466k/466k [00:00&lt;00:00, 3.64MB/s]"
          }
        },
        "9ffd9373b3c142b1812242239a700de6": {
          "model_module": "@jupyter-widgets/base",
          "model_name": "LayoutModel",
          "model_module_version": "1.2.0",
          "state": {
            "_model_module": "@jupyter-widgets/base",
            "_model_module_version": "1.2.0",
            "_model_name": "LayoutModel",
            "_view_count": null,
            "_view_module": "@jupyter-widgets/base",
            "_view_module_version": "1.2.0",
            "_view_name": "LayoutView",
            "align_content": null,
            "align_items": null,
            "align_self": null,
            "border": null,
            "bottom": null,
            "display": null,
            "flex": null,
            "flex_flow": null,
            "grid_area": null,
            "grid_auto_columns": null,
            "grid_auto_flow": null,
            "grid_auto_rows": null,
            "grid_column": null,
            "grid_gap": null,
            "grid_row": null,
            "grid_template_areas": null,
            "grid_template_columns": null,
            "grid_template_rows": null,
            "height": null,
            "justify_content": null,
            "justify_items": null,
            "left": null,
            "margin": null,
            "max_height": null,
            "max_width": null,
            "min_height": null,
            "min_width": null,
            "object_fit": null,
            "object_position": null,
            "order": null,
            "overflow": null,
            "overflow_x": null,
            "overflow_y": null,
            "padding": null,
            "right": null,
            "top": null,
            "visibility": null,
            "width": null
          }
        },
        "73c972709e8d41e9a1667c90d3ae9a96": {
          "model_module": "@jupyter-widgets/base",
          "model_name": "LayoutModel",
          "model_module_version": "1.2.0",
          "state": {
            "_model_module": "@jupyter-widgets/base",
            "_model_module_version": "1.2.0",
            "_model_name": "LayoutModel",
            "_view_count": null,
            "_view_module": "@jupyter-widgets/base",
            "_view_module_version": "1.2.0",
            "_view_name": "LayoutView",
            "align_content": null,
            "align_items": null,
            "align_self": null,
            "border": null,
            "bottom": null,
            "display": null,
            "flex": null,
            "flex_flow": null,
            "grid_area": null,
            "grid_auto_columns": null,
            "grid_auto_flow": null,
            "grid_auto_rows": null,
            "grid_column": null,
            "grid_gap": null,
            "grid_row": null,
            "grid_template_areas": null,
            "grid_template_columns": null,
            "grid_template_rows": null,
            "height": null,
            "justify_content": null,
            "justify_items": null,
            "left": null,
            "margin": null,
            "max_height": null,
            "max_width": null,
            "min_height": null,
            "min_width": null,
            "object_fit": null,
            "object_position": null,
            "order": null,
            "overflow": null,
            "overflow_x": null,
            "overflow_y": null,
            "padding": null,
            "right": null,
            "top": null,
            "visibility": null,
            "width": null
          }
        },
        "5695f2983afc434ebaf772cd25437403": {
          "model_module": "@jupyter-widgets/controls",
          "model_name": "DescriptionStyleModel",
          "model_module_version": "1.5.0",
          "state": {
            "_model_module": "@jupyter-widgets/controls",
            "_model_module_version": "1.5.0",
            "_model_name": "DescriptionStyleModel",
            "_view_count": null,
            "_view_module": "@jupyter-widgets/base",
            "_view_module_version": "1.2.0",
            "_view_name": "StyleView",
            "description_width": ""
          }
        },
        "70465e6d93ed4204bfa7fd8b1a696955": {
          "model_module": "@jupyter-widgets/base",
          "model_name": "LayoutModel",
          "model_module_version": "1.2.0",
          "state": {
            "_model_module": "@jupyter-widgets/base",
            "_model_module_version": "1.2.0",
            "_model_name": "LayoutModel",
            "_view_count": null,
            "_view_module": "@jupyter-widgets/base",
            "_view_module_version": "1.2.0",
            "_view_name": "LayoutView",
            "align_content": null,
            "align_items": null,
            "align_self": null,
            "border": null,
            "bottom": null,
            "display": null,
            "flex": null,
            "flex_flow": null,
            "grid_area": null,
            "grid_auto_columns": null,
            "grid_auto_flow": null,
            "grid_auto_rows": null,
            "grid_column": null,
            "grid_gap": null,
            "grid_row": null,
            "grid_template_areas": null,
            "grid_template_columns": null,
            "grid_template_rows": null,
            "height": null,
            "justify_content": null,
            "justify_items": null,
            "left": null,
            "margin": null,
            "max_height": null,
            "max_width": null,
            "min_height": null,
            "min_width": null,
            "object_fit": null,
            "object_position": null,
            "order": null,
            "overflow": null,
            "overflow_x": null,
            "overflow_y": null,
            "padding": null,
            "right": null,
            "top": null,
            "visibility": null,
            "width": null
          }
        },
        "2805b15382574cee8a1518bd73deea6e": {
          "model_module": "@jupyter-widgets/controls",
          "model_name": "ProgressStyleModel",
          "model_module_version": "1.5.0",
          "state": {
            "_model_module": "@jupyter-widgets/controls",
            "_model_module_version": "1.5.0",
            "_model_name": "ProgressStyleModel",
            "_view_count": null,
            "_view_module": "@jupyter-widgets/base",
            "_view_module_version": "1.2.0",
            "_view_name": "StyleView",
            "bar_color": null,
            "description_width": ""
          }
        },
        "a026c3bcf4aa44fe8adfe648911c6e63": {
          "model_module": "@jupyter-widgets/base",
          "model_name": "LayoutModel",
          "model_module_version": "1.2.0",
          "state": {
            "_model_module": "@jupyter-widgets/base",
            "_model_module_version": "1.2.0",
            "_model_name": "LayoutModel",
            "_view_count": null,
            "_view_module": "@jupyter-widgets/base",
            "_view_module_version": "1.2.0",
            "_view_name": "LayoutView",
            "align_content": null,
            "align_items": null,
            "align_self": null,
            "border": null,
            "bottom": null,
            "display": null,
            "flex": null,
            "flex_flow": null,
            "grid_area": null,
            "grid_auto_columns": null,
            "grid_auto_flow": null,
            "grid_auto_rows": null,
            "grid_column": null,
            "grid_gap": null,
            "grid_row": null,
            "grid_template_areas": null,
            "grid_template_columns": null,
            "grid_template_rows": null,
            "height": null,
            "justify_content": null,
            "justify_items": null,
            "left": null,
            "margin": null,
            "max_height": null,
            "max_width": null,
            "min_height": null,
            "min_width": null,
            "object_fit": null,
            "object_position": null,
            "order": null,
            "overflow": null,
            "overflow_x": null,
            "overflow_y": null,
            "padding": null,
            "right": null,
            "top": null,
            "visibility": null,
            "width": null
          }
        },
        "348fb665b5164ddca4d2a23f03b42cc2": {
          "model_module": "@jupyter-widgets/controls",
          "model_name": "DescriptionStyleModel",
          "model_module_version": "1.5.0",
          "state": {
            "_model_module": "@jupyter-widgets/controls",
            "_model_module_version": "1.5.0",
            "_model_name": "DescriptionStyleModel",
            "_view_count": null,
            "_view_module": "@jupyter-widgets/base",
            "_view_module_version": "1.2.0",
            "_view_name": "StyleView",
            "description_width": ""
          }
        },
        "3b0fbb1a31fc41ecb95ab8ea84646db0": {
          "model_module": "@jupyter-widgets/controls",
          "model_name": "HBoxModel",
          "model_module_version": "1.5.0",
          "state": {
            "_dom_classes": [],
            "_model_module": "@jupyter-widgets/controls",
            "_model_module_version": "1.5.0",
            "_model_name": "HBoxModel",
            "_view_count": null,
            "_view_module": "@jupyter-widgets/controls",
            "_view_module_version": "1.5.0",
            "_view_name": "HBoxView",
            "box_style": "",
            "children": [
              "IPY_MODEL_52fefe310d144749a17728dcd9d79404",
              "IPY_MODEL_c80cfdc21202410aac19fcf13a6de9ea",
              "IPY_MODEL_bc1b309a33dc40149759a837ab838daf"
            ],
            "layout": "IPY_MODEL_7a0e75ed73214269a9aab2cce2f05951"
          }
        },
        "52fefe310d144749a17728dcd9d79404": {
          "model_module": "@jupyter-widgets/controls",
          "model_name": "HTMLModel",
          "model_module_version": "1.5.0",
          "state": {
            "_dom_classes": [],
            "_model_module": "@jupyter-widgets/controls",
            "_model_module_version": "1.5.0",
            "_model_name": "HTMLModel",
            "_view_count": null,
            "_view_module": "@jupyter-widgets/controls",
            "_view_module_version": "1.5.0",
            "_view_name": "HTMLView",
            "description": "",
            "description_tooltip": null,
            "layout": "IPY_MODEL_38aad378885a428dab894af031673d69",
            "placeholder": "​",
            "style": "IPY_MODEL_52dc0c20cb694929b747cccacf0d51a2",
            "value": "config.json: 100%"
          }
        },
        "c80cfdc21202410aac19fcf13a6de9ea": {
          "model_module": "@jupyter-widgets/controls",
          "model_name": "FloatProgressModel",
          "model_module_version": "1.5.0",
          "state": {
            "_dom_classes": [],
            "_model_module": "@jupyter-widgets/controls",
            "_model_module_version": "1.5.0",
            "_model_name": "FloatProgressModel",
            "_view_count": null,
            "_view_module": "@jupyter-widgets/controls",
            "_view_module_version": "1.5.0",
            "_view_name": "ProgressView",
            "bar_style": "success",
            "description": "",
            "description_tooltip": null,
            "layout": "IPY_MODEL_2f3ca3afb70546bf865b2b54685a2d82",
            "max": 570,
            "min": 0,
            "orientation": "horizontal",
            "style": "IPY_MODEL_c352a00fe86044a78de902f53072d945",
            "value": 570
          }
        },
        "bc1b309a33dc40149759a837ab838daf": {
          "model_module": "@jupyter-widgets/controls",
          "model_name": "HTMLModel",
          "model_module_version": "1.5.0",
          "state": {
            "_dom_classes": [],
            "_model_module": "@jupyter-widgets/controls",
            "_model_module_version": "1.5.0",
            "_model_name": "HTMLModel",
            "_view_count": null,
            "_view_module": "@jupyter-widgets/controls",
            "_view_module_version": "1.5.0",
            "_view_name": "HTMLView",
            "description": "",
            "description_tooltip": null,
            "layout": "IPY_MODEL_f845a8bb0d334838bb326bec0aa9bd8b",
            "placeholder": "​",
            "style": "IPY_MODEL_ff82e904ca964f6389255047d27df261",
            "value": " 570/570 [00:00&lt;00:00, 39.2kB/s]"
          }
        },
        "7a0e75ed73214269a9aab2cce2f05951": {
          "model_module": "@jupyter-widgets/base",
          "model_name": "LayoutModel",
          "model_module_version": "1.2.0",
          "state": {
            "_model_module": "@jupyter-widgets/base",
            "_model_module_version": "1.2.0",
            "_model_name": "LayoutModel",
            "_view_count": null,
            "_view_module": "@jupyter-widgets/base",
            "_view_module_version": "1.2.0",
            "_view_name": "LayoutView",
            "align_content": null,
            "align_items": null,
            "align_self": null,
            "border": null,
            "bottom": null,
            "display": null,
            "flex": null,
            "flex_flow": null,
            "grid_area": null,
            "grid_auto_columns": null,
            "grid_auto_flow": null,
            "grid_auto_rows": null,
            "grid_column": null,
            "grid_gap": null,
            "grid_row": null,
            "grid_template_areas": null,
            "grid_template_columns": null,
            "grid_template_rows": null,
            "height": null,
            "justify_content": null,
            "justify_items": null,
            "left": null,
            "margin": null,
            "max_height": null,
            "max_width": null,
            "min_height": null,
            "min_width": null,
            "object_fit": null,
            "object_position": null,
            "order": null,
            "overflow": null,
            "overflow_x": null,
            "overflow_y": null,
            "padding": null,
            "right": null,
            "top": null,
            "visibility": null,
            "width": null
          }
        },
        "38aad378885a428dab894af031673d69": {
          "model_module": "@jupyter-widgets/base",
          "model_name": "LayoutModel",
          "model_module_version": "1.2.0",
          "state": {
            "_model_module": "@jupyter-widgets/base",
            "_model_module_version": "1.2.0",
            "_model_name": "LayoutModel",
            "_view_count": null,
            "_view_module": "@jupyter-widgets/base",
            "_view_module_version": "1.2.0",
            "_view_name": "LayoutView",
            "align_content": null,
            "align_items": null,
            "align_self": null,
            "border": null,
            "bottom": null,
            "display": null,
            "flex": null,
            "flex_flow": null,
            "grid_area": null,
            "grid_auto_columns": null,
            "grid_auto_flow": null,
            "grid_auto_rows": null,
            "grid_column": null,
            "grid_gap": null,
            "grid_row": null,
            "grid_template_areas": null,
            "grid_template_columns": null,
            "grid_template_rows": null,
            "height": null,
            "justify_content": null,
            "justify_items": null,
            "left": null,
            "margin": null,
            "max_height": null,
            "max_width": null,
            "min_height": null,
            "min_width": null,
            "object_fit": null,
            "object_position": null,
            "order": null,
            "overflow": null,
            "overflow_x": null,
            "overflow_y": null,
            "padding": null,
            "right": null,
            "top": null,
            "visibility": null,
            "width": null
          }
        },
        "52dc0c20cb694929b747cccacf0d51a2": {
          "model_module": "@jupyter-widgets/controls",
          "model_name": "DescriptionStyleModel",
          "model_module_version": "1.5.0",
          "state": {
            "_model_module": "@jupyter-widgets/controls",
            "_model_module_version": "1.5.0",
            "_model_name": "DescriptionStyleModel",
            "_view_count": null,
            "_view_module": "@jupyter-widgets/base",
            "_view_module_version": "1.2.0",
            "_view_name": "StyleView",
            "description_width": ""
          }
        },
        "2f3ca3afb70546bf865b2b54685a2d82": {
          "model_module": "@jupyter-widgets/base",
          "model_name": "LayoutModel",
          "model_module_version": "1.2.0",
          "state": {
            "_model_module": "@jupyter-widgets/base",
            "_model_module_version": "1.2.0",
            "_model_name": "LayoutModel",
            "_view_count": null,
            "_view_module": "@jupyter-widgets/base",
            "_view_module_version": "1.2.0",
            "_view_name": "LayoutView",
            "align_content": null,
            "align_items": null,
            "align_self": null,
            "border": null,
            "bottom": null,
            "display": null,
            "flex": null,
            "flex_flow": null,
            "grid_area": null,
            "grid_auto_columns": null,
            "grid_auto_flow": null,
            "grid_auto_rows": null,
            "grid_column": null,
            "grid_gap": null,
            "grid_row": null,
            "grid_template_areas": null,
            "grid_template_columns": null,
            "grid_template_rows": null,
            "height": null,
            "justify_content": null,
            "justify_items": null,
            "left": null,
            "margin": null,
            "max_height": null,
            "max_width": null,
            "min_height": null,
            "min_width": null,
            "object_fit": null,
            "object_position": null,
            "order": null,
            "overflow": null,
            "overflow_x": null,
            "overflow_y": null,
            "padding": null,
            "right": null,
            "top": null,
            "visibility": null,
            "width": null
          }
        },
        "c352a00fe86044a78de902f53072d945": {
          "model_module": "@jupyter-widgets/controls",
          "model_name": "ProgressStyleModel",
          "model_module_version": "1.5.0",
          "state": {
            "_model_module": "@jupyter-widgets/controls",
            "_model_module_version": "1.5.0",
            "_model_name": "ProgressStyleModel",
            "_view_count": null,
            "_view_module": "@jupyter-widgets/base",
            "_view_module_version": "1.2.0",
            "_view_name": "StyleView",
            "bar_color": null,
            "description_width": ""
          }
        },
        "f845a8bb0d334838bb326bec0aa9bd8b": {
          "model_module": "@jupyter-widgets/base",
          "model_name": "LayoutModel",
          "model_module_version": "1.2.0",
          "state": {
            "_model_module": "@jupyter-widgets/base",
            "_model_module_version": "1.2.0",
            "_model_name": "LayoutModel",
            "_view_count": null,
            "_view_module": "@jupyter-widgets/base",
            "_view_module_version": "1.2.0",
            "_view_name": "LayoutView",
            "align_content": null,
            "align_items": null,
            "align_self": null,
            "border": null,
            "bottom": null,
            "display": null,
            "flex": null,
            "flex_flow": null,
            "grid_area": null,
            "grid_auto_columns": null,
            "grid_auto_flow": null,
            "grid_auto_rows": null,
            "grid_column": null,
            "grid_gap": null,
            "grid_row": null,
            "grid_template_areas": null,
            "grid_template_columns": null,
            "grid_template_rows": null,
            "height": null,
            "justify_content": null,
            "justify_items": null,
            "left": null,
            "margin": null,
            "max_height": null,
            "max_width": null,
            "min_height": null,
            "min_width": null,
            "object_fit": null,
            "object_position": null,
            "order": null,
            "overflow": null,
            "overflow_x": null,
            "overflow_y": null,
            "padding": null,
            "right": null,
            "top": null,
            "visibility": null,
            "width": null
          }
        },
        "ff82e904ca964f6389255047d27df261": {
          "model_module": "@jupyter-widgets/controls",
          "model_name": "DescriptionStyleModel",
          "model_module_version": "1.5.0",
          "state": {
            "_model_module": "@jupyter-widgets/controls",
            "_model_module_version": "1.5.0",
            "_model_name": "DescriptionStyleModel",
            "_view_count": null,
            "_view_module": "@jupyter-widgets/base",
            "_view_module_version": "1.2.0",
            "_view_name": "StyleView",
            "description_width": ""
          }
        }
      }
    },
    "accelerator": "GPU"
  },
  "cells": [
    {
      "cell_type": "code",
      "execution_count": null,
      "metadata": {
        "colab": {
          "base_uri": "https://localhost:8080/"
        },
        "id": "xLSH9cNx46gI",
        "outputId": "9dd85940-3523-4411-85ed-5529f0be3add"
      },
      "outputs": [
        {
          "output_type": "stream",
          "name": "stdout",
          "text": [
            "Requirement already satisfied: tensorflow in /usr/local/lib/python3.10/dist-packages (2.17.1)\n",
            "Requirement already satisfied: transformers in /usr/local/lib/python3.10/dist-packages (4.46.3)\n",
            "Requirement already satisfied: absl-py>=1.0.0 in /usr/local/lib/python3.10/dist-packages (from tensorflow) (1.4.0)\n",
            "Requirement already satisfied: astunparse>=1.6.0 in /usr/local/lib/python3.10/dist-packages (from tensorflow) (1.6.3)\n",
            "Requirement already satisfied: flatbuffers>=24.3.25 in /usr/local/lib/python3.10/dist-packages (from tensorflow) (24.3.25)\n",
            "Requirement already satisfied: gast!=0.5.0,!=0.5.1,!=0.5.2,>=0.2.1 in /usr/local/lib/python3.10/dist-packages (from tensorflow) (0.6.0)\n",
            "Requirement already satisfied: google-pasta>=0.1.1 in /usr/local/lib/python3.10/dist-packages (from tensorflow) (0.2.0)\n",
            "Requirement already satisfied: h5py>=3.10.0 in /usr/local/lib/python3.10/dist-packages (from tensorflow) (3.12.1)\n",
            "Requirement already satisfied: libclang>=13.0.0 in /usr/local/lib/python3.10/dist-packages (from tensorflow) (18.1.1)\n",
            "Requirement already satisfied: ml-dtypes<0.5.0,>=0.3.1 in /usr/local/lib/python3.10/dist-packages (from tensorflow) (0.4.1)\n",
            "Requirement already satisfied: opt-einsum>=2.3.2 in /usr/local/lib/python3.10/dist-packages (from tensorflow) (3.4.0)\n",
            "Requirement already satisfied: packaging in /usr/local/lib/python3.10/dist-packages (from tensorflow) (24.2)\n",
            "Requirement already satisfied: protobuf!=4.21.0,!=4.21.1,!=4.21.2,!=4.21.3,!=4.21.4,!=4.21.5,<5.0.0dev,>=3.20.3 in /usr/local/lib/python3.10/dist-packages (from tensorflow) (4.25.5)\n",
            "Requirement already satisfied: requests<3,>=2.21.0 in /usr/local/lib/python3.10/dist-packages (from tensorflow) (2.32.3)\n",
            "Requirement already satisfied: setuptools in /usr/local/lib/python3.10/dist-packages (from tensorflow) (75.1.0)\n",
            "Requirement already satisfied: six>=1.12.0 in /usr/local/lib/python3.10/dist-packages (from tensorflow) (1.16.0)\n",
            "Requirement already satisfied: termcolor>=1.1.0 in /usr/local/lib/python3.10/dist-packages (from tensorflow) (2.5.0)\n",
            "Requirement already satisfied: typing-extensions>=3.6.6 in /usr/local/lib/python3.10/dist-packages (from tensorflow) (4.12.2)\n",
            "Requirement already satisfied: wrapt>=1.11.0 in /usr/local/lib/python3.10/dist-packages (from tensorflow) (1.17.0)\n",
            "Requirement already satisfied: grpcio<2.0,>=1.24.3 in /usr/local/lib/python3.10/dist-packages (from tensorflow) (1.68.1)\n",
            "Requirement already satisfied: tensorboard<2.18,>=2.17 in /usr/local/lib/python3.10/dist-packages (from tensorflow) (2.17.1)\n",
            "Requirement already satisfied: keras>=3.2.0 in /usr/local/lib/python3.10/dist-packages (from tensorflow) (3.5.0)\n",
            "Requirement already satisfied: tensorflow-io-gcs-filesystem>=0.23.1 in /usr/local/lib/python3.10/dist-packages (from tensorflow) (0.37.1)\n",
            "Requirement already satisfied: numpy<2.0.0,>=1.23.5 in /usr/local/lib/python3.10/dist-packages (from tensorflow) (1.26.4)\n",
            "Requirement already satisfied: filelock in /usr/local/lib/python3.10/dist-packages (from transformers) (3.16.1)\n",
            "Requirement already satisfied: huggingface-hub<1.0,>=0.23.2 in /usr/local/lib/python3.10/dist-packages (from transformers) (0.26.3)\n",
            "Requirement already satisfied: pyyaml>=5.1 in /usr/local/lib/python3.10/dist-packages (from transformers) (6.0.2)\n",
            "Requirement already satisfied: regex!=2019.12.17 in /usr/local/lib/python3.10/dist-packages (from transformers) (2024.9.11)\n",
            "Requirement already satisfied: tokenizers<0.21,>=0.20 in /usr/local/lib/python3.10/dist-packages (from transformers) (0.20.3)\n",
            "Requirement already satisfied: safetensors>=0.4.1 in /usr/local/lib/python3.10/dist-packages (from transformers) (0.4.5)\n",
            "Requirement already satisfied: tqdm>=4.27 in /usr/local/lib/python3.10/dist-packages (from transformers) (4.66.6)\n",
            "Requirement already satisfied: wheel<1.0,>=0.23.0 in /usr/local/lib/python3.10/dist-packages (from astunparse>=1.6.0->tensorflow) (0.45.1)\n",
            "Requirement already satisfied: fsspec>=2023.5.0 in /usr/local/lib/python3.10/dist-packages (from huggingface-hub<1.0,>=0.23.2->transformers) (2024.10.0)\n",
            "Requirement already satisfied: rich in /usr/local/lib/python3.10/dist-packages (from keras>=3.2.0->tensorflow) (13.9.4)\n",
            "Requirement already satisfied: namex in /usr/local/lib/python3.10/dist-packages (from keras>=3.2.0->tensorflow) (0.0.8)\n",
            "Requirement already satisfied: optree in /usr/local/lib/python3.10/dist-packages (from keras>=3.2.0->tensorflow) (0.13.1)\n",
            "Requirement already satisfied: charset-normalizer<4,>=2 in /usr/local/lib/python3.10/dist-packages (from requests<3,>=2.21.0->tensorflow) (3.4.0)\n",
            "Requirement already satisfied: idna<4,>=2.5 in /usr/local/lib/python3.10/dist-packages (from requests<3,>=2.21.0->tensorflow) (3.10)\n",
            "Requirement already satisfied: urllib3<3,>=1.21.1 in /usr/local/lib/python3.10/dist-packages (from requests<3,>=2.21.0->tensorflow) (2.2.3)\n",
            "Requirement already satisfied: certifi>=2017.4.17 in /usr/local/lib/python3.10/dist-packages (from requests<3,>=2.21.0->tensorflow) (2024.8.30)\n",
            "Requirement already satisfied: markdown>=2.6.8 in /usr/local/lib/python3.10/dist-packages (from tensorboard<2.18,>=2.17->tensorflow) (3.7)\n",
            "Requirement already satisfied: tensorboard-data-server<0.8.0,>=0.7.0 in /usr/local/lib/python3.10/dist-packages (from tensorboard<2.18,>=2.17->tensorflow) (0.7.2)\n",
            "Requirement already satisfied: werkzeug>=1.0.1 in /usr/local/lib/python3.10/dist-packages (from tensorboard<2.18,>=2.17->tensorflow) (3.1.3)\n",
            "Requirement already satisfied: MarkupSafe>=2.1.1 in /usr/local/lib/python3.10/dist-packages (from werkzeug>=1.0.1->tensorboard<2.18,>=2.17->tensorflow) (3.0.2)\n",
            "Requirement already satisfied: markdown-it-py>=2.2.0 in /usr/local/lib/python3.10/dist-packages (from rich->keras>=3.2.0->tensorflow) (3.0.0)\n",
            "Requirement already satisfied: pygments<3.0.0,>=2.13.0 in /usr/local/lib/python3.10/dist-packages (from rich->keras>=3.2.0->tensorflow) (2.18.0)\n",
            "Requirement already satisfied: mdurl~=0.1 in /usr/local/lib/python3.10/dist-packages (from markdown-it-py>=2.2.0->rich->keras>=3.2.0->tensorflow) (0.1.2)\n"
          ]
        }
      ],
      "source": [
        "!pip install tensorflow transformers"
      ]
    },
    {
      "cell_type": "code",
      "source": [
        "import tensorflow as tf\n",
        "import matplotlib.pyplot as plt\n",
        "from transformers import BertTokenizer, TFBertModel\n",
        "from datetime import datetime\n",
        "import numpy as np\n",
        "import json"
      ],
      "metadata": {
        "id": "mN3Neq_85BjN"
      },
      "execution_count": 1,
      "outputs": []
    },
    {
      "cell_type": "code",
      "source": [
        "print(\"TensorFlow version:\", tf.__version__)\n",
        "print(\"NumPy version:\", np.__version__)\n",
        "print(\"json version:\", json.__version__)"
      ],
      "metadata": {
        "colab": {
          "base_uri": "https://localhost:8080/"
        },
        "id": "Qe8Bss81D4W9",
        "outputId": "56f563ca-d887-4937-9a20-2e386878ae51"
      },
      "execution_count": 2,
      "outputs": [
        {
          "output_type": "stream",
          "name": "stdout",
          "text": [
            "TensorFlow version: 2.17.1\n",
            "NumPy version: 1.26.4\n",
            "json version: 2.0.9\n"
          ]
        }
      ]
    },
    {
      "cell_type": "code",
      "source": [
        "def load_json_dataset(file_path):\n",
        "  with open(file_path, \"r\") as f:\n",
        "    data = json.load(f)\n",
        "  return data"
      ],
      "metadata": {
        "id": "WWpXoYst5Oke"
      },
      "execution_count": 3,
      "outputs": []
    },
    {
      "cell_type": "code",
      "source": [
        "# Load Dataset\n",
        "dir = \"./dataset_findup.json\"\n",
        "data = load_json_dataset(dir)"
      ],
      "metadata": {
        "id": "I7a1807s5Q61"
      },
      "execution_count": 4,
      "outputs": []
    },
    {
      "cell_type": "code",
      "source": [
        "def calculate_duration(start_date, end_date):\n",
        "  \"\"\"\n",
        "  Calculate the duration in years and months between two dates.\n",
        "  Args:\n",
        "      start_date (str): Start date in the format 'YYYY-MM'\n",
        "      end_date (str): End date in the format 'YYYY-MM' or present\n",
        "  Returns:\n",
        "      float: Duration in years (e.g., 1.5 for 1 year and 6 months)\n",
        "  \"\"\"\n",
        "\n",
        "  date_format = \"%b %Y\"\n",
        "  try:\n",
        "    start = datetime.strptime(start_date, date_format)\n",
        "    if end_date.lower() == \"present\":\n",
        "      end = datetime.now()\n",
        "    else:\n",
        "      end = datetime.strptime(end_date, date_format)\n",
        "    duration = (end.year - start.year) * 12 + (end.month - start.month)\n",
        "    return round(duration / 12, 2)\n",
        "\n",
        "  except:\n",
        "    print(f'Error parsing dates: {e}')\n",
        "    return 0"
      ],
      "metadata": {
        "id": "c0EhAAyM5vhw"
      },
      "execution_count": 5,
      "outputs": []
    },
    {
      "cell_type": "code",
      "source": [
        "def extract_features(data):\n",
        "  \"\"\"\n",
        "  Extract numerical and textual features from the dataset\n",
        "  Args:\n",
        "      data (list): Parsed JSON data\n",
        "      job_requirements (dict): Job-specific skill requirements.\n",
        "  Returns:\n",
        "      tuple: Lists of texts, numerical features, and labels\n",
        "  \"\"\"\n",
        "\n",
        "  texts = []\n",
        "  numerical_features = []\n",
        "  scores = []\n",
        "\n",
        "  for entry in data:\n",
        "    for name, details in entry.items():\n",
        "      skills = details.get(\"Skills\", [])\n",
        "      certifications = details.get(\"Certification\", [])\n",
        "      personal_info = details.get(\"Personal Info\", {})\n",
        "      work_experience = details.get(\"Work Experience\", [])\n",
        "\n",
        "      # 1. Skills Score\n",
        "      max_skills = 20\n",
        "      skills_score = min(len(skills) / max_skills, 1.0) * 100\n",
        "\n",
        "      # 2. Certification Score\n",
        "      max_certification = 10\n",
        "      certification_score = min(len(certifications) / max_certification, 1.0) * 100\n",
        "\n",
        "      # 3. Degree Relevance Score\n",
        "      degree = personal_info.get(\"Degree\", \" \")\n",
        "      degree_map = {\n",
        "          'highschool': 10,\n",
        "          'bachelor': 20,\n",
        "          'master': 30,\n",
        "          'phd': 40,\n",
        "      }\n",
        "      degree_score = degree_map.get(degree.lower().split(\" \")[0], 0) * 2.5\n",
        "\n",
        "      # 4. Work Experience\n",
        "      total_experience = sum(\n",
        "          calculate_duration(exp.get(\"Start Date\", \"\"), exp.get(\"End Date\", \"\")) for exp in work_experience\n",
        "      )\n",
        "      max_experience = 5\n",
        "      experience_score = min(total_experience / max_experience, 1.0) * 100\n",
        "\n",
        "      # Combine features into Numerical inputs\n",
        "      numerical_features.append([skills_score, certification_score, degree_score, experience_score])\n",
        "\n",
        "      # Combined textual data for tokenizer\n",
        "      combined_text = \" \".join(skills + certifications)\n",
        "      texts.append(combined_text)\n",
        "\n",
        "      # Final CV Score (weighted average of components)\n",
        "      final_score = (0.3 * skills_score + 0.2 * certification_score +\n",
        "                     0.2 * degree_score + 0.3 * experience_score)\n",
        "      scores.append(final_score)\n",
        "\n",
        "  return texts, numerical_features, scores"
      ],
      "metadata": {
        "id": "KOgKyAxf5w7u"
      },
      "execution_count": 6,
      "outputs": []
    },
    {
      "cell_type": "code",
      "source": [
        "texts, numerical_features, scores = extract_features(data)"
      ],
      "metadata": {
        "id": "2jqLxdIp5yNT"
      },
      "execution_count": 24,
      "outputs": []
    },
    {
      "cell_type": "code",
      "source": [
        "data[0]"
      ],
      "metadata": {
        "colab": {
          "base_uri": "https://localhost:8080/"
        },
        "id": "x-_aWI9g5zpt",
        "outputId": "ec0d8a67-2195-4441-80c9-9988e4a3cd64"
      },
      "execution_count": 8,
      "outputs": [
        {
          "output_type": "execute_result",
          "data": {
            "text/plain": [
              "{'XENA ROSITA': {'Personal Info': {'Phone Number': '+621928614366',\n",
              "   'Email': 'xenarosita@gmail.com',\n",
              "   'Github': 'github.com/xenarosita',\n",
              "   'LinkedIn': 'https://www.linkedin.com/in/xenarosita/',\n",
              "   'Degree': \"Bachelor's in Computer Science\"},\n",
              "  'Skills': ['Vue.js',\n",
              "   'PHP',\n",
              "   'C++',\n",
              "   'PostgreSQL',\n",
              "   'Node.js',\n",
              "   'MySQL',\n",
              "   'Git',\n",
              "   'AWS',\n",
              "   'Google Cloud',\n",
              "   'GraphQL'],\n",
              "  'Work Experience': [{'Company Name': 'ByteWorks',\n",
              "    'Start Date': 'Mar 2022',\n",
              "    'End Date': 'May 2022',\n",
              "    'Position': 'Product Manager Intern',\n",
              "    'Description': ['At this role, I leveraged my skills in project management to deliver excellent results.',\n",
              "     'I played a key role in optimizing our workflows which contributed to our project successes.']}],\n",
              "  'Certification': ['Certified Kubernetes Administrator']}}"
            ]
          },
          "metadata": {},
          "execution_count": 8
        }
      ]
    },
    {
      "cell_type": "code",
      "source": [
        "tokenizer = BertTokenizer.from_pretrained('bert-base-uncased')"
      ],
      "metadata": {
        "colab": {
          "base_uri": "https://localhost:8080/",
          "height": 269,
          "referenced_widgets": [
            "ed8c675b53e44e4a9e90a07ff82cdec1",
            "9a73211703c743d9b9caa81decc0406a",
            "5ff612efaeb04c34aa54b615eb3f9a53",
            "17f07cb6a2474f13827335dc8a29b801",
            "e439b50d52414088a3f95d197267cb0b",
            "d14aacd27c2f4ad882bcf8c1907b8561",
            "6d190c1c099f458892328e56304d5eb8",
            "291c008bbf9c4419a9eab597ee622084",
            "fb760be1dbb54981b4b9efba761b131d",
            "752b98427cb244a3b1eb429d6f037328",
            "7c0790372f0a4a1cbc7f2ffdbf937f27",
            "96e7966148f34cce866f2ec087208e55",
            "5c114bb28a394408abf9d89dd3cd6b28",
            "f41821c1314842ee89b1f6a1b7fd3d70",
            "0d4368c365ee477ba9523b26df6f2568",
            "8fb37b3949d84b3ba9f381f5b2c0aff5",
            "4dce7ca6bef24664bf2f496b512db1bf",
            "10c1001e1f394539b80026f197b8cccf",
            "1183d22676324f08bc01526a3f22cdde",
            "39a3a60483bc446fbb644fcf736609a5",
            "b302b6a401f04d258d5d10ebc5abee6f",
            "4495e07ea4d943e0bba342b496bdf418",
            "05d893b5cccc4731af773fce617ff737",
            "fded446ff04f4a3b83f98df7c19805a4",
            "1bb9c621f6cf4979b0749654fbb2c151",
            "0b2911c02fce43d985cc5b7e92116e46",
            "9ffd9373b3c142b1812242239a700de6",
            "73c972709e8d41e9a1667c90d3ae9a96",
            "5695f2983afc434ebaf772cd25437403",
            "70465e6d93ed4204bfa7fd8b1a696955",
            "2805b15382574cee8a1518bd73deea6e",
            "a026c3bcf4aa44fe8adfe648911c6e63",
            "348fb665b5164ddca4d2a23f03b42cc2",
            "3b0fbb1a31fc41ecb95ab8ea84646db0",
            "52fefe310d144749a17728dcd9d79404",
            "c80cfdc21202410aac19fcf13a6de9ea",
            "bc1b309a33dc40149759a837ab838daf",
            "7a0e75ed73214269a9aab2cce2f05951",
            "38aad378885a428dab894af031673d69",
            "52dc0c20cb694929b747cccacf0d51a2",
            "2f3ca3afb70546bf865b2b54685a2d82",
            "c352a00fe86044a78de902f53072d945",
            "f845a8bb0d334838bb326bec0aa9bd8b",
            "ff82e904ca964f6389255047d27df261"
          ]
        },
        "id": "M03sK7Pa50wU",
        "outputId": "bba88379-a459-4cc4-9172-24b1f70430dc"
      },
      "execution_count": 9,
      "outputs": [
        {
          "output_type": "stream",
          "name": "stderr",
          "text": [
            "/usr/local/lib/python3.10/dist-packages/huggingface_hub/utils/_auth.py:94: UserWarning: \n",
            "The secret `HF_TOKEN` does not exist in your Colab secrets.\n",
            "To authenticate with the Hugging Face Hub, create a token in your settings tab (https://huggingface.co/settings/tokens), set it as secret in your Google Colab and restart your session.\n",
            "You will be able to reuse this secret in all of your notebooks.\n",
            "Please note that authentication is recommended but still optional to access public models or datasets.\n",
            "  warnings.warn(\n"
          ]
        },
        {
          "output_type": "display_data",
          "data": {
            "text/plain": [
              "tokenizer_config.json:   0%|          | 0.00/48.0 [00:00<?, ?B/s]"
            ],
            "application/vnd.jupyter.widget-view+json": {
              "version_major": 2,
              "version_minor": 0,
              "model_id": "ed8c675b53e44e4a9e90a07ff82cdec1"
            }
          },
          "metadata": {}
        },
        {
          "output_type": "display_data",
          "data": {
            "text/plain": [
              "vocab.txt:   0%|          | 0.00/232k [00:00<?, ?B/s]"
            ],
            "application/vnd.jupyter.widget-view+json": {
              "version_major": 2,
              "version_minor": 0,
              "model_id": "96e7966148f34cce866f2ec087208e55"
            }
          },
          "metadata": {}
        },
        {
          "output_type": "display_data",
          "data": {
            "text/plain": [
              "tokenizer.json:   0%|          | 0.00/466k [00:00<?, ?B/s]"
            ],
            "application/vnd.jupyter.widget-view+json": {
              "version_major": 2,
              "version_minor": 0,
              "model_id": "05d893b5cccc4731af773fce617ff737"
            }
          },
          "metadata": {}
        },
        {
          "output_type": "display_data",
          "data": {
            "text/plain": [
              "config.json:   0%|          | 0.00/570 [00:00<?, ?B/s]"
            ],
            "application/vnd.jupyter.widget-view+json": {
              "version_major": 2,
              "version_minor": 0,
              "model_id": "3b0fbb1a31fc41ecb95ab8ea84646db0"
            }
          },
          "metadata": {}
        }
      ]
    },
    {
      "cell_type": "code",
      "source": [
        "def tokenize_texts(texts):\n",
        "  return tokenizer(texts, padding='max_length', truncation=True, max_length=128, return_tensors=\"tf\")\n",
        "\n",
        "tokenized_texts = tokenize_texts(texts)"
      ],
      "metadata": {
        "id": "R11QBElY52NM"
      },
      "execution_count": 25,
      "outputs": []
    },
    {
      "cell_type": "code",
      "source": [
        "def create_model():\n",
        "  # BERT Input\n",
        "  input_ids = tf.keras.layers.Input(shape=(128,), dtype=tf.int32, name='input_ids')\n",
        "  attention_mask = tf.keras.layers.Input(shape=(128,), dtype=tf.int32, name='attention_mask')\n",
        "\n",
        "  # BERT Model\n",
        "  bert_model = TFBertModel.from_pretrained('bert-base-uncased')\n",
        "  bert_output = bert_model(input_ids, attention_mask=attention_mask).last_hidden_state[:, 0, :]\n",
        "\n",
        "  # Numerical Features Input\n",
        "  numerical_input = tf.keras.layers.Input(shape=(4,), name='numerical_features')\n",
        "\n",
        "  # Dense Layers from Numerical Features\n",
        "  x_num = tf.keras.layers.Dense(64, activation='relu')(numerical_input)\n",
        "  x_num = tf.keras.layers.Dropout(0.3)(x_num)\n",
        "  x_num = tf.keras.layers.Dense(32, activation='relu')(numerical_input)\n",
        "\n",
        "  # Concatenate BERT and Numerical Features\n",
        "  x = tf.keras.layers.concatenate([bert_output, x_num])\n",
        "  x = tf.keras.layers.Dense(128, activation='relu')(x)\n",
        "  x = tf.keras.layers.Dropout(0.4)(x)\n",
        "  output = tf.keras.layers.Dense(1, activation='linear')(x)\n",
        "\n",
        "  model = tf.keras.Model(inputs=[input_ids, attention_mask, numerical_input], outputs=output)\n",
        "\n",
        "  # Freeze all layers in BERT\n",
        "  for layer in bert_model.layers:\n",
        "    layer.trainable = False\n",
        "\n",
        "  model.compile(\n",
        "      optimizer=tf.keras.optimizers.Adam(learning_rate=2e-03),\n",
        "      loss='mse',\n",
        "      metrics=['mae'],\n",
        "  )\n",
        "\n",
        "  return model"
      ],
      "metadata": {
        "id": "bTKbh9WJ53-q"
      },
      "execution_count": 26,
      "outputs": []
    },
    {
      "cell_type": "code",
      "source": [
        "model = create_model()"
      ],
      "metadata": {
        "colab": {
          "base_uri": "https://localhost:8080/"
        },
        "id": "35KYsPSy77Gd",
        "outputId": "ad15aa05-8dcf-4336-b3c6-4291a4f249cc"
      },
      "execution_count": 27,
      "outputs": [
        {
          "output_type": "stream",
          "name": "stderr",
          "text": [
            "Some weights of the PyTorch model were not used when initializing the TF 2.0 model TFBertModel: ['cls.predictions.transform.LayerNorm.weight', 'cls.seq_relationship.weight', 'cls.predictions.transform.dense.bias', 'cls.predictions.transform.dense.weight', 'cls.predictions.bias', 'cls.predictions.transform.LayerNorm.bias', 'cls.seq_relationship.bias']\n",
            "- This IS expected if you are initializing TFBertModel from a PyTorch model trained on another task or with another architecture (e.g. initializing a TFBertForSequenceClassification model from a BertForPreTraining model).\n",
            "- This IS NOT expected if you are initializing TFBertModel from a PyTorch model that you expect to be exactly identical (e.g. initializing a TFBertForSequenceClassification model from a BertForSequenceClassification model).\n",
            "All the weights of TFBertModel were initialized from the PyTorch model.\n",
            "If your task is similar to the task the model of the checkpoint was trained on, you can already use TFBertModel for predictions without further training.\n"
          ]
        }
      ]
    },
    {
      "cell_type": "code",
      "source": [
        "train_size = int(0.7 * len(texts))\n",
        "X_train = [tokenized_texts['input_ids'][:train_size], tokenized_texts['attention_mask'][:train_size], numerical_features[:train_size]]\n",
        "y_train = scores[:train_size]\n",
        "\n",
        "X_val = [tokenized_texts['input_ids'][train_size:], tokenized_texts['attention_mask'][train_size:], numerical_features[train_size:]]\n",
        "y_val = scores[train_size:]"
      ],
      "metadata": {
        "id": "PFpjDlBN6RNf"
      },
      "execution_count": 28,
      "outputs": []
    },
    {
      "cell_type": "code",
      "source": [
        "# Convert numerical features to tensors\n",
        "numerical_features_train = tf.convert_to_tensor(numerical_features[:train_size], dtype=tf.float32)\n",
        "numerical_features_val = tf.convert_to_tensor(numerical_features[train_size:], dtype=tf.float32)"
      ],
      "metadata": {
        "id": "NPoQNHFN6SC9"
      },
      "execution_count": 29,
      "outputs": []
    },
    {
      "cell_type": "code",
      "source": [
        "# Create training and validation datasets\n",
        "train_data = tf.data.Dataset.from_tensor_slices((\n",
        "    {\n",
        "        'input_ids': tokenized_texts['input_ids'][:train_size],\n",
        "        'attention_mask': tokenized_texts['attention_mask'][:train_size],\n",
        "        'numerical_features': numerical_features_train\n",
        "    },\n",
        "    y_train\n",
        "))"
      ],
      "metadata": {
        "id": "ReUX79XS6Uo7"
      },
      "execution_count": 30,
      "outputs": []
    },
    {
      "cell_type": "code",
      "source": [
        "val_data = tf.data.Dataset.from_tensor_slices((\n",
        "    {\n",
        "        'input_ids': tokenized_texts['input_ids'][train_size:],\n",
        "        'attention_mask': tokenized_texts['attention_mask'][train_size:],\n",
        "        'numerical_features': numerical_features_val\n",
        "    },\n",
        "    y_val\n",
        "))"
      ],
      "metadata": {
        "id": "IH-dy3dN6Wnp"
      },
      "execution_count": 31,
      "outputs": []
    },
    {
      "cell_type": "code",
      "source": [
        "# Batch the datasets\n",
        "train_data = train_data.batch(8).shuffle(100)\n",
        "val_data = val_data.batch(8)"
      ],
      "metadata": {
        "id": "Wg0aTG3N6YA8"
      },
      "execution_count": 32,
      "outputs": []
    },
    {
      "cell_type": "code",
      "source": [
        "early_stopping = tf.keras.callbacks.EarlyStopping(\n",
        "  monitor ='loss',\n",
        "  patience = 5,\n",
        "  restore_best_weights = True\n",
        ")"
      ],
      "metadata": {
        "id": "O8ofDej059Zj"
      },
      "execution_count": 33,
      "outputs": []
    },
    {
      "cell_type": "code",
      "source": [
        "# Train the model\n",
        "history = model.fit(train_data, validation_data=val_data, epochs=25, callbacks=[early_stopping])"
      ],
      "metadata": {
        "colab": {
          "base_uri": "https://localhost:8080/"
        },
        "id": "8MRNcRiV64Rn",
        "outputId": "1c1b69c7-e728-408e-c1e7-502814109c1c"
      },
      "execution_count": 34,
      "outputs": [
        {
          "output_type": "stream",
          "name": "stdout",
          "text": [
            "Epoch 1/25\n",
            "9/9 [==============================] - 20s 664ms/step - loss: 215.2612 - mae: 10.9774 - val_loss: 110.7750 - val_mae: 10.3184\n",
            "Epoch 2/25\n",
            "9/9 [==============================] - 1s 156ms/step - loss: 53.7495 - mae: 6.1708 - val_loss: 6.8363 - val_mae: 2.0691\n",
            "Epoch 3/25\n",
            "9/9 [==============================] - 1s 156ms/step - loss: 34.4274 - mae: 4.3932 - val_loss: 3.4394 - val_mae: 1.5026\n",
            "Epoch 4/25\n",
            "9/9 [==============================] - 1s 176ms/step - loss: 18.1197 - mae: 3.1009 - val_loss: 6.3099 - val_mae: 1.9985\n",
            "Epoch 5/25\n",
            "9/9 [==============================] - 1s 173ms/step - loss: 28.8690 - mae: 3.8731 - val_loss: 3.3636 - val_mae: 1.5040\n",
            "Epoch 6/25\n",
            "9/9 [==============================] - 1s 160ms/step - loss: 26.0797 - mae: 3.7996 - val_loss: 5.7215 - val_mae: 1.9660\n",
            "Epoch 7/25\n",
            "9/9 [==============================] - 1s 125ms/step - loss: 19.2546 - mae: 3.3138 - val_loss: 3.6599 - val_mae: 1.5028\n",
            "Epoch 8/25\n",
            "9/9 [==============================] - 1s 120ms/step - loss: 24.9896 - mae: 3.6340 - val_loss: 5.0649 - val_mae: 1.8687\n",
            "Epoch 9/25\n",
            "9/9 [==============================] - 1s 155ms/step - loss: 15.9979 - mae: 3.1210 - val_loss: 2.7210 - val_mae: 1.2794\n",
            "Epoch 10/25\n",
            "9/9 [==============================] - 1s 163ms/step - loss: 19.5897 - mae: 3.1123 - val_loss: 2.2951 - val_mae: 1.3112\n",
            "Epoch 11/25\n",
            "9/9 [==============================] - 1s 123ms/step - loss: 18.3421 - mae: 3.2123 - val_loss: 3.6504 - val_mae: 1.4632\n",
            "Epoch 12/25\n",
            "9/9 [==============================] - 1s 164ms/step - loss: 12.7667 - mae: 2.7086 - val_loss: 2.0944 - val_mae: 1.2622\n",
            "Epoch 13/25\n",
            "9/9 [==============================] - 1s 122ms/step - loss: 20.1017 - mae: 3.3135 - val_loss: 5.2864 - val_mae: 1.7887\n",
            "Epoch 14/25\n",
            "9/9 [==============================] - 1s 122ms/step - loss: 15.8539 - mae: 3.1109 - val_loss: 13.3552 - val_mae: 3.2621\n",
            "Epoch 15/25\n",
            "9/9 [==============================] - 1s 122ms/step - loss: 18.0197 - mae: 3.2065 - val_loss: 1.8813 - val_mae: 1.1476\n",
            "Epoch 16/25\n",
            "9/9 [==============================] - 1s 123ms/step - loss: 26.0246 - mae: 4.0040 - val_loss: 5.7730 - val_mae: 1.9530\n",
            "Epoch 17/25\n",
            "9/9 [==============================] - 1s 122ms/step - loss: 24.6124 - mae: 3.8095 - val_loss: 4.9976 - val_mae: 2.0423\n"
          ]
        }
      ]
    },
    {
      "cell_type": "code",
      "source": [
        "\n",
        "# Plot training & validation loss\n",
        "plt.figure(figsize=(12, 6))\n",
        "\n",
        "plt.subplot(1, 2, 1)\n",
        "plt.plot(history.history['loss'], label='Train Loss')\n",
        "plt.plot(history.history['val_loss'], label='Validation Loss')\n",
        "plt.title('Training & Validation Loss')\n",
        "plt.xlabel('Epochs')\n",
        "plt.ylabel('Loss')\n",
        "plt.legend()\n",
        "\n",
        "# Plot training & validation MAE\n",
        "plt.subplot(1, 2, 2)\n",
        "plt.plot(history.history['mae'], label='Train MAE')\n",
        "plt.plot(history.history['val_mae'], label='Validation MAE')\n",
        "plt.title('Training & Validation MAE')\n",
        "plt.xlabel('Epochs')\n",
        "plt.ylabel('Mean Absolute Error')\n",
        "plt.legend()\n",
        "\n",
        "# Show the plots\n",
        "plt.tight_layout()\n",
        "plt.show()\n",
        "\n"
      ],
      "metadata": {
        "colab": {
          "base_uri": "https://localhost:8080/",
          "height": 484
        },
        "id": "62z2ENq-75TA",
        "outputId": "823f1f1a-d3c0-4ecd-c8a8-db2cea1e4b9a"
      },
      "execution_count": 35,
      "outputs": [
        {
          "output_type": "display_data",
          "data": {
            "text/plain": [
              "<Figure size 1200x600 with 2 Axes>"
            ],
            "image/png": "[encoded data removed]"
          },
          "metadata": {}
        }
      ]
    },
    {
      "cell_type": "code",
      "source": [
        "from sklearn.metrics import confusion_matrix, ConfusionMatrixDisplay\n",
        "\n",
        "def classify(scores, thresholds=(20, 30)):\n",
        "    classes = []\n",
        "    for score in scores:\n",
        "        if score < thresholds[0]:\n",
        "            classes.append(\"low\")\n",
        "        elif score < thresholds[1]:\n",
        "            classes.append(\"medium\")\n",
        "        else:\n",
        "            classes.append(\"high\")\n",
        "    return classes\n",
        "\n",
        "# Predict on validation data\n",
        "predicted_scores = model.predict(val_data)\n",
        "predicted_classes = classify(predicted_scores.flatten())  # Flatten to 1D\n",
        "\n",
        "# Convert true validation scores to classes\n",
        "true_classes = classify(y_val)\n",
        "\n",
        "# Generate the confusion matrix\n",
        "cm = confusion_matrix(true_classes, predicted_classes, labels=[\"low\", \"medium\", \"high\"])\n",
        "\n",
        "# Display the confusion matrix\n",
        "disp = ConfusionMatrixDisplay(confusion_matrix=cm, display_labels=[\"low\", \"medium\", \"high\"])\n",
        "disp.plot(cmap=plt.cm.Blues)\n",
        "plt.title(\"Confusion Matrix\")\n",
        "plt.show()"
      ],
      "metadata": {
        "colab": {
          "base_uri": "https://localhost:8080/",
          "height": 489
        },
        "id": "vKt0UwlwXBBd",
        "outputId": "e2ff31c8-6f5c-43af-faff-78b80c895aab"
      },
      "execution_count": 36,
      "outputs": [
        {
          "output_type": "stream",
          "name": "stdout",
          "text": [
            "4/4 [==============================] - 4s 91ms/step\n"
          ]
        },
        {
          "output_type": "display_data",
          "data": {
            "text/plain": [
              "<Figure size 640x480 with 2 Axes>"
            ],
            "image/png": "[encoded data removed]"
          },
          "metadata": {}
        }
      ]
    },
    {
      "cell_type": "code",
      "source": [
        "# input_ids: (None, 128)\n",
        "# attention_mask: (None, 128)\n",
        "# numerical_features: (None, 128)\n",
        "model.save('cv_scoring.h5')\n",
        "\n",
        "print('Model saved as \"cv_scoring_model\"')"
      ],
      "metadata": {
        "colab": {
          "base_uri": "https://localhost:8080/"
        },
        "id": "dTzR57hy83w_",
        "outputId": "21388a2f-e74e-4174-d3f4-e04449adeeb1"
      },
      "execution_count": 37,
      "outputs": [
        {
          "output_type": "stream",
          "name": "stderr",
          "text": [
            "/usr/local/lib/python3.10/dist-packages/tf_keras/src/engine/training.py:3098: UserWarning: You are saving your model as an HDF5 file via `model.save()`. This file format is considered legacy. We recommend using instead the native TF-Keras format, e.g. `model.save('my_model.keras')`.\n",
            "  saving_api.save_model(\n"
          ]
        },
        {
          "output_type": "stream",
          "name": "stdout",
          "text": [
            "Model saved as \"cv_scoring_model\"\n"
          ]
        }
      ]
    },
    {
      "cell_type": "code",
      "source": [
        "model_load = tf.keras.models.load_model(\n",
        "    'cv_scoring.h5',\n",
        "    custom_objects={\"TFBertModel\": TFBertModel}\n",
        ")\n",
        "print('Model succesfully loaded')\n",
        "model_load.summary()"
      ],
      "metadata": {
        "colab": {
          "base_uri": "https://localhost:8080/"
        },
        "id": "HpK3jOMwmvhW",
        "outputId": "1855f010-c481-4f9e-ef48-9cddaaddda43"
      },
      "execution_count": 38,
      "outputs": [
        {
          "output_type": "stream",
          "name": "stderr",
          "text": [
            "WARNING:tensorflow:Error in loading the saved optimizer state. As a result, your model is starting with a freshly initialized optimizer.\n"
          ]
        },
        {
          "output_type": "stream",
          "name": "stdout",
          "text": [
            "Model succesfully loaded\n",
            "Model: \"model_1\"\n",
            "__________________________________________________________________________________________________\n",
            " Layer (type)                Output Shape                 Param #   Connected to                  \n",
            "==================================================================================================\n",
            " input_ids (InputLayer)      [(None, 128)]                0         []                            \n",
            "                                                                                                  \n",
            " attention_mask (InputLayer  [(None, 128)]                0         []                            \n",
            " )                                                                                                \n",
            "                                                                                                  \n",
            " tf_bert_model_2 (TFBertMod  TFBaseModelOutputWithPooli   1094822   ['input_ids[0][0]',           \n",
            " el)                         ngAndCrossAttentions(last_   40         'attention_mask[0][0]']      \n",
            "                             hidden_state=(None, 128, 7                                           \n",
            "                             68),                                                                 \n",
            "                              pooler_output=(None, 768)                                           \n",
            "                             , past_key_values=None, hi                                           \n",
            "                             dden_states=None, attentio                                           \n",
            "                             ns=None, cross_attentions=                                           \n",
            "                             None)                                                                \n",
            "                                                                                                  \n",
            " numerical_features (InputL  [(None, 4)]                  0         []                            \n",
            " ayer)                                                                                            \n",
            "                                                                                                  \n",
            " tf.__operators__.getitem_1  (None, 768)                  0         ['tf_bert_model_2[0][0]']     \n",
            "  (SlicingOpLambda)                                                                               \n",
            "                                                                                                  \n",
            " dense_6 (Dense)             (None, 32)                   160       ['numerical_features[0][0]']  \n",
            "                                                                                                  \n",
            " concatenate_1 (Concatenate  (None, 800)                  0         ['tf.__operators__.getitem_1[0\n",
            " )                                                                  ][0]',                        \n",
            "                                                                     'dense_6[0][0]']             \n",
            "                                                                                                  \n",
            " dense_7 (Dense)             (None, 128)                  102528    ['concatenate_1[0][0]']       \n",
            "                                                                                                  \n",
            " dropout_77 (Dropout)        (None, 128)                  0         ['dense_7[0][0]']             \n",
            "                                                                                                  \n",
            " dense_8 (Dense)             (None, 1)                    129       ['dropout_77[0][0]']          \n",
            "                                                                                                  \n",
            "==================================================================================================\n",
            "Total params: 109585057 (418.03 MB)\n",
            "Trainable params: 109585057 (418.03 MB)\n",
            "Non-trainable params: 0 (0.00 Byte)\n",
            "__________________________________________________________________________________________________\n"
          ]
        }
      ]
    },
    {
      "cell_type": "code",
      "source": [
        "cv_ika = {\n",
        "        \"IKA SANTOSO\": {\n",
        "            \"Personal Info\": {\n",
        "                \"Phone Number\": \"+623239288207\",\n",
        "                \"Email\": \"ikasantoso@gmail.com\",\n",
        "                \"Github\": \"github.com/ikasantoso\",\n",
        "                \"LinkedIn\": \"https://www.linkedin.com/in/ikasantoso/\",\n",
        "                \"Degree\": \"Bachelor's in Information Technology\"\n",
        "            },\n",
        "            \"Skills\": [\n",
        "                \"React\",\n",
        "                \"Data Analysis\",\n",
        "                \"Git\",\n",
        "                \"Node.js\",\n",
        "                \"Kotlin\",\n",
        "                \"Vue.js\",\n",
        "                \"Android Development\",\n",
        "                \"Google Cloud\",\n",
        "                \"Data Analysis\",\n",
        "                \"SQL\",\n",
        "                \"MySQL\",\n",
        "                \"Docker\",\n",
        "                \"GraphQL\",\n",
        "                \"UI/UX Design\",\n",
        "                \"PostgreSQL\"\n",
        "            ],\n",
        "            \"Work Experience\": [\n",
        "                {\n",
        "                    \"Company Name\": \"CodePulse\",\n",
        "                    \"Start Date\": \"Jul 2018\",\n",
        "                    \"End Date\": \"Jul 2019\",\n",
        "                    \"Position\": \"Frontend Developer\",\n",
        "                    \"Description\": [\n",
        "                        \"My experience included mentoring junior team members and fostering a collaborative work environment.\",\n",
        "                        \"Throughout my tenure, I took the initiative in leading team retrospectives.\",\n",
        "                        \"At this role, I leveraged my skills in team collaboration to deliver excellent results.\",\n",
        "                        \"I utilized various technologies and methodologies, further enhancing my expertise in software development.\"\n",
        "                    ]\n",
        "                }\n",
        "            ],\n",
        "            \"Certification\": [\n",
        "                \"AWS Certified Solutions Architect\",\n",
        "                \"UX/UI Design Certification\",\n",
        "                \"Certified Ethical Hacker\"\n",
        "            ]\n",
        "        }\n",
        "    }"
      ],
      "metadata": {
        "id": "Q0AbKnmOnhft"
      },
      "execution_count": 39,
      "outputs": []
    },
    {
      "cell_type": "code",
      "source": [
        "def extract_features_self(data):\n",
        "  \"\"\"\n",
        "  Extract numerical and textual features from the dataset\n",
        "  Args:\n",
        "      data (list): Parsed JSON data\n",
        "      job_requirements (dict): Job-specific skill requirements.\n",
        "  Returns:\n",
        "      tuple: Lists of texts, numerical features, and labels\n",
        "  \"\"\"\n",
        "\n",
        "  texts = []\n",
        "  numerical_features = []\n",
        "\n",
        "  for name, details in data.items():\n",
        "    skills = details.get(\"Skills\", [])\n",
        "    certifications = details.get(\"Certification\", [])\n",
        "    personal_info = details.get(\"Personal Info\", {})\n",
        "    work_experience = details.get(\"Work Experience\", [])\n",
        "\n",
        "    # 1. Skills Score\n",
        "    max_skills = 20\n",
        "    skills_score = min(len(skills) / max_skills, 1.0) * 100\n",
        "\n",
        "    # 2. Certification Score\n",
        "    max_certification = 10\n",
        "    certification_score = min(len(certifications) / max_certification, 1.0) * 100\n",
        "\n",
        "    # 3. Degree Relevance Score\n",
        "    degree = personal_info.get(\"Degree\", \" \")\n",
        "    degree_map = {\n",
        "        'highschool': 10,\n",
        "        'bachelor': 20,\n",
        "        'master': 30,\n",
        "        'phd': 40,\n",
        "    }\n",
        "    degree_score = degree_map.get(degree.lower().split(\" \")[0], 0) * 2.5\n",
        "\n",
        "    # 4. Work Experience\n",
        "    total_experience = sum(\n",
        "        calculate_duration(exp.get(\"Start Date\", \"\"), exp.get(\"End Date\", \"\")) for exp in work_experience\n",
        "    )\n",
        "    max_experience = 5\n",
        "    experience_score = min(total_experience / max_experience, 1.0) * 100\n",
        "\n",
        "    # Combine features into Numerical inputs\n",
        "    numerical_features.append([skills_score, certification_score, degree_score, experience_score])\n",
        "\n",
        "    # Combined textual data for tokenizer\n",
        "    combined_text = \" \".join(skills + certifications)\n",
        "    texts.append(combined_text)\n",
        "\n",
        "  return texts, numerical_features"
      ],
      "metadata": {
        "id": "Dx_13AZEoJ_y"
      },
      "execution_count": 55,
      "outputs": []
    },
    {
      "cell_type": "code",
      "source": [
        "texts, numerical_features = extract_features_self(cv_ika)"
      ],
      "metadata": {
        "id": "XSO1KqTboT20"
      },
      "execution_count": 57,
      "outputs": []
    },
    {
      "cell_type": "code",
      "source": [
        "def preprocess_data_self(texts, numerical_features, labels=None):\n",
        "  \"\"\"\n",
        "  Preprocess text data and numerical features.\n",
        "  Args:\n",
        "      texts (list): List of text strings.\n",
        "      numerical_features (list or np.ndarray): Numerical feature vectors.\n",
        "      labels (list): Target scores (optional for inference).\n",
        "  Returns:\n",
        "      tf.data.Dataset: Tensorflow Dataset\n",
        "  \"\"\"\n",
        "  # BERT tokenizer from TensorFlow Hub\n",
        "  tokenized_texts = tokenize_texts(texts)\n",
        "\n",
        "  # Convert Numerical Features to Tensors\n",
        "  numerical_features = tf.convert_to_tensor(numerical_features, dtype=tf.float32)\n",
        "\n",
        "  inputs = {\n",
        "    'input_ids': tokenized_texts['input_ids'][:train_size],\n",
        "    'attention_mask': tokenized_texts['attention_mask'][:train_size],\n",
        "    'numerical_features': numerical_features\n",
        "  }\n",
        "\n",
        "  return inputs"
      ],
      "metadata": {
        "id": "MwKvn6k_ocbB"
      },
      "execution_count": 61,
      "outputs": []
    },
    {
      "cell_type": "code",
      "source": [
        "processed_data = preprocess_data_self(texts, numerical_features)\n",
        "prediction1 = model_load(processed_data)\n",
        "\n",
        "predicted_score = (prediction1.numpy().flatten()[0] + 1)\n",
        "print(f\"Predicted CV Score: {predicted_score}\")"
      ],
      "metadata": {
        "colab": {
          "base_uri": "https://localhost:8080/"
        },
        "id": "UIBY5l3-og0W",
        "outputId": "c62b3c91-900a-4663-c270-98feb0404cb3"
      },
      "execution_count": 64,
      "outputs": [
        {
          "output_type": "stream",
          "name": "stdout",
          "text": [
            "Predicted CV Score: 30.904407501220703\n"
          ]
        }
      ]
    },
    {
      "cell_type": "code",
      "source": [],
      "metadata": {
        "id": "rLXAOKA2qVjU"
      },
      "execution_count": null,
      "outputs": []
    }
  ]
}